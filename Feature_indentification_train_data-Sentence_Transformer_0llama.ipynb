{
 "cells": [
  {
   "cell_type": "markdown",
   "id": "ed5b396f-8bac-4150-9bd9-ecd09ea38ac4",
   "metadata": {},
   "source": [
    "### Sentence Transformers"
   ]
  },
  {
   "cell_type": "code",
   "execution_count": 1,
   "id": "5931a127",
   "metadata": {
    "id": "5931a127"
   },
   "outputs": [],
   "source": [
    "import warnings\n",
    "warnings.filterwarnings(\"ignore\")"
   ]
  },
  {
   "cell_type": "code",
   "execution_count": 2,
   "id": "b6f8bae1",
   "metadata": {
    "id": "b6f8bae1",
    "scrolled": true
   },
   "outputs": [],
   "source": [
    "import nltk\n",
    "# nltk.download(\"punkt\")\n",
    "import warnings\n",
    "warnings.filterwarnings(\"ignore\")"
   ]
  },
  {
   "cell_type": "code",
   "execution_count": 3,
   "id": "756d0279-de5e-4d47-a960-306cd4f91037",
   "metadata": {},
   "outputs": [],
   "source": [
    "# pip install transformers"
   ]
  },
  {
   "cell_type": "code",
   "execution_count": 3,
   "id": "8fec67b8",
   "metadata": {
    "id": "8fec67b8"
   },
   "outputs": [],
   "source": [
    "import pandas as pd\n",
    "import numpy as np\n",
    "import torch\n",
    "from transformers import AutoTokenizer, AutoModelWithLMHead, BertTokenizer,BertModel\n",
    "import re\n",
    "from nltk.tokenize import sent_tokenize, word_tokenize\n",
    "# importing all necessary modules\n",
    "from gensim.models import Word2Vec\n",
    "import gensim\n",
    "from nltk.tokenize import sent_tokenize, word_tokenize\n",
    "from sklearn.metrics.pairwise import cosine_similarity\n",
    "import matplotlib.pyplot as plt\n",
    "import seaborn as sns\n",
    "from nltk.corpus import stopwords\n",
    "from nltk.tokenize import word_tokenize "
   ]
  },
  {
   "cell_type": "code",
   "execution_count": 4,
   "id": "5a8c86e2",
   "metadata": {
    "id": "5a8c86e2"
   },
   "outputs": [],
   "source": [
    "import calendar\n",
    "cal=list(calendar.month_name)\n",
    "for i in list(calendar.month_name[1:]):\n",
    "    cal.append(i[:3])"
   ]
  },
  {
   "cell_type": "code",
   "execution_count": 5,
   "id": "a548b8d8",
   "metadata": {
    "id": "a548b8d8"
   },
   "outputs": [],
   "source": [
    "df=pd.read_excel(\"July_August_Sepetember_Oct_samp_comments.xlsx\")"
   ]
  },
  {
   "cell_type": "code",
   "execution_count": 6,
   "id": "7ea04046-cfbd-46f8-9f9d-bb1214498b36",
   "metadata": {},
   "outputs": [
    {
     "data": {
      "text/html": [
       "<div>\n",
       "<style scoped>\n",
       "    .dataframe tbody tr th:only-of-type {\n",
       "        vertical-align: middle;\n",
       "    }\n",
       "\n",
       "    .dataframe tbody tr th {\n",
       "        vertical-align: top;\n",
       "    }\n",
       "\n",
       "    .dataframe thead th {\n",
       "        text-align: right;\n",
       "    }\n",
       "</style>\n",
       "<table border=\"1\" class=\"dataframe\">\n",
       "  <thead>\n",
       "    <tr style=\"text-align: right;\">\n",
       "      <th></th>\n",
       "      <th>Unnamed: 0</th>\n",
       "      <th>V_COMMENTS</th>\n",
       "      <th>N_PARTY_WATCHLIST_MATCH_ID</th>\n",
       "      <th>Counts</th>\n",
       "    </tr>\n",
       "  </thead>\n",
       "  <tbody>\n",
       "    <tr>\n",
       "      <th>0</th>\n",
       "      <td>30016</td>\n",
       "      <td>Mismatch ID number_NRIC</td>\n",
       "      <td>[6147381, 6003260, 5488573, 6013209, 6007897, ...</td>\n",
       "      <td>20859</td>\n",
       "    </tr>\n",
       "    <tr>\n",
       "      <th>1</th>\n",
       "      <td>25242</td>\n",
       "      <td>Mismatch Full Legal Name – Name Does Not Sound...</td>\n",
       "      <td>[6081737, 4832938, 7491187, 6227658, 5401157, ...</td>\n",
       "      <td>13039</td>\n",
       "    </tr>\n",
       "    <tr>\n",
       "      <th>2</th>\n",
       "      <td>30017</td>\n",
       "      <td>Mismatch ID number_NRIC\\n</td>\n",
       "      <td>[5129297, 5086069, 6260885, 5277278, 4821963, ...</td>\n",
       "      <td>8666</td>\n",
       "    </tr>\n",
       "    <tr>\n",
       "      <th>3</th>\n",
       "      <td>26176</td>\n",
       "      <td>Mismatch Full Legal Name_Name Does Not Sound S...</td>\n",
       "      <td>[6190699, 5155337, 6121364, 5155334, 5155339, ...</td>\n",
       "      <td>6680</td>\n",
       "    </tr>\n",
       "    <tr>\n",
       "      <th>4</th>\n",
       "      <td>20636</td>\n",
       "      <td>Mismatch Date of Birth (DOB)</td>\n",
       "      <td>[4801383, 4887727, 5254984, 4806610, 6031120, ...</td>\n",
       "      <td>6288</td>\n",
       "    </tr>\n",
       "    <tr>\n",
       "      <th>...</th>\n",
       "      <td>...</td>\n",
       "      <td>...</td>\n",
       "      <td>...</td>\n",
       "      <td>...</td>\n",
       "    </tr>\n",
       "    <tr>\n",
       "      <th>91980</th>\n",
       "      <td>33158</td>\n",
       "      <td>Mismatch Occupation - Customer work as AGRICUL...</td>\n",
       "      <td>[4845599]</td>\n",
       "      <td>1</td>\n",
       "    </tr>\n",
       "    <tr>\n",
       "      <th>91981</th>\n",
       "      <td>33157</td>\n",
       "      <td>Mismatch Occupation - Customer work as AGRICUL...</td>\n",
       "      <td>[6149893]</td>\n",
       "      <td>1</td>\n",
       "    </tr>\n",
       "    <tr>\n",
       "      <th>91982</th>\n",
       "      <td>33156</td>\n",
       "      <td>Mismatch Occupation - Customer work as AGRICUL...</td>\n",
       "      <td>[6135720]</td>\n",
       "      <td>1</td>\n",
       "    </tr>\n",
       "    <tr>\n",
       "      <th>91983</th>\n",
       "      <td>33155</td>\n",
       "      <td>Mismatch Occupation - Customer work as AGRICUL...</td>\n",
       "      <td>[7502691]</td>\n",
       "      <td>1</td>\n",
       "    </tr>\n",
       "    <tr>\n",
       "      <th>91984</th>\n",
       "      <td>91984</td>\n",
       "      <td>“True Hit Non-Material.Dec 2006 - Watchperson ...</td>\n",
       "      <td>[7646902]</td>\n",
       "      <td>1</td>\n",
       "    </tr>\n",
       "  </tbody>\n",
       "</table>\n",
       "<p>91985 rows × 4 columns</p>\n",
       "</div>"
      ],
      "text/plain": [
       "       Unnamed: 0                                         V_COMMENTS  \\\n",
       "0           30016                            Mismatch ID number_NRIC   \n",
       "1           25242  Mismatch Full Legal Name – Name Does Not Sound...   \n",
       "2           30017                          Mismatch ID number_NRIC\\n   \n",
       "3           26176  Mismatch Full Legal Name_Name Does Not Sound S...   \n",
       "4           20636                       Mismatch Date of Birth (DOB)   \n",
       "...           ...                                                ...   \n",
       "91980       33158  Mismatch Occupation - Customer work as AGRICUL...   \n",
       "91981       33157  Mismatch Occupation - Customer work as AGRICUL...   \n",
       "91982       33156  Mismatch Occupation - Customer work as AGRICUL...   \n",
       "91983       33155  Mismatch Occupation - Customer work as AGRICUL...   \n",
       "91984       91984  “True Hit Non-Material.Dec 2006 - Watchperson ...   \n",
       "\n",
       "                              N_PARTY_WATCHLIST_MATCH_ID  Counts  \n",
       "0      [6147381, 6003260, 5488573, 6013209, 6007897, ...   20859  \n",
       "1      [6081737, 4832938, 7491187, 6227658, 5401157, ...   13039  \n",
       "2      [5129297, 5086069, 6260885, 5277278, 4821963, ...    8666  \n",
       "3      [6190699, 5155337, 6121364, 5155334, 5155339, ...    6680  \n",
       "4      [4801383, 4887727, 5254984, 4806610, 6031120, ...    6288  \n",
       "...                                                  ...     ...  \n",
       "91980                                          [4845599]       1  \n",
       "91981                                          [6149893]       1  \n",
       "91982                                          [6135720]       1  \n",
       "91983                                          [7502691]       1  \n",
       "91984                                          [7646902]       1  \n",
       "\n",
       "[91985 rows x 4 columns]"
      ]
     },
     "execution_count": 6,
     "metadata": {},
     "output_type": "execute_result"
    }
   ],
   "source": [
    "df"
   ]
  },
  {
   "cell_type": "code",
   "execution_count": 7,
   "id": "5344518d",
   "metadata": {
    "id": "5344518d"
   },
   "outputs": [],
   "source": [
    "df.drop([\"Unnamed: 0\",],axis=1,inplace=True)\n",
    "df.dropna(inplace=True)"
   ]
  },
  {
   "cell_type": "code",
   "execution_count": 12,
   "id": "5837f8bc",
   "metadata": {
    "id": "5837f8bc"
   },
   "outputs": [],
   "source": [
    "# sequence=df[df[\"V_COMMENTS\"].apply(lambda x: len(x)>100)][\"V_COMMENTS\"].loc[221569]"
   ]
  },
  {
   "cell_type": "code",
   "execution_count": 8,
   "id": "7f0f2e38",
   "metadata": {
    "id": "7f0f2e38"
   },
   "outputs": [],
   "source": [
    "df_features=pd.read_csv(\"Topic_Feature_List_Agg_brd_labs.csv\")"
   ]
  },
  {
   "cell_type": "code",
   "execution_count": 9,
   "id": "090e5914",
   "metadata": {},
   "outputs": [],
   "source": [
    "# df.drop([\"id_2_feature\",\"TFIDF_Feature\",\"Topic_tfidf_lda\",\"All_Topic_tfidf_Probabilities\",\"TF_tfidf_Topic_No\",\" TF IDF Topic words\"],axis=1,inplace=True)"
   ]
  },
  {
   "cell_type": "code",
   "execution_count": 10,
   "id": "e7d55ca5",
   "metadata": {
    "scrolled": true
   },
   "outputs": [
    {
     "data": {
      "text/html": [
       "<div>\n",
       "<style scoped>\n",
       "    .dataframe tbody tr th:only-of-type {\n",
       "        vertical-align: middle;\n",
       "    }\n",
       "\n",
       "    .dataframe tbody tr th {\n",
       "        vertical-align: top;\n",
       "    }\n",
       "\n",
       "    .dataframe thead th {\n",
       "        text-align: right;\n",
       "    }\n",
       "</style>\n",
       "<table border=\"1\" class=\"dataframe\">\n",
       "  <thead>\n",
       "    <tr style=\"text-align: right;\">\n",
       "      <th></th>\n",
       "      <th>S.no</th>\n",
       "      <th>Standardized_Anchors_BRD_LABS</th>\n",
       "      <th>BRD_FLAG</th>\n",
       "      <th>Categories</th>\n",
       "      <th>Category_labs</th>\n",
       "    </tr>\n",
       "  </thead>\n",
       "  <tbody>\n",
       "    <tr>\n",
       "      <th>0</th>\n",
       "      <td>1</td>\n",
       "      <td>Word count difference</td>\n",
       "      <td>Y</td>\n",
       "      <td>Full Legal Name - Word Count</td>\n",
       "      <td>NaN</td>\n",
       "    </tr>\n",
       "    <tr>\n",
       "      <th>1</th>\n",
       "      <td>2</td>\n",
       "      <td>Name structure difference</td>\n",
       "      <td>Y</td>\n",
       "      <td>Full Legal Name - Name Structure</td>\n",
       "      <td>NaN</td>\n",
       "    </tr>\n",
       "    <tr>\n",
       "      <th>2</th>\n",
       "      <td>3</td>\n",
       "      <td>Name does not sound similiar</td>\n",
       "      <td>Y</td>\n",
       "      <td>Full Legal Name - Name Does Not Sound Similar</td>\n",
       "      <td>NaN</td>\n",
       "    </tr>\n",
       "    <tr>\n",
       "      <th>3</th>\n",
       "      <td>4</td>\n",
       "      <td>Native name charachter difference</td>\n",
       "      <td>Y</td>\n",
       "      <td>Full Legal Name - Native Name</td>\n",
       "      <td>Name</td>\n",
       "    </tr>\n",
       "    <tr>\n",
       "      <th>4</th>\n",
       "      <td>5</td>\n",
       "      <td>NaN</td>\n",
       "      <td>Y</td>\n",
       "      <td>Category (Vessel vs. Individual vs. Entity)</td>\n",
       "      <td>NaN</td>\n",
       "    </tr>\n",
       "    <tr>\n",
       "      <th>...</th>\n",
       "      <td>...</td>\n",
       "      <td>...</td>\n",
       "      <td>...</td>\n",
       "      <td>...</td>\n",
       "      <td>...</td>\n",
       "    </tr>\n",
       "    <tr>\n",
       "      <th>430</th>\n",
       "      <td>431</td>\n",
       "      <td>Customer - Transaction - Number of transactions</td>\n",
       "      <td>NaN</td>\n",
       "      <td>Account &amp; transactions</td>\n",
       "      <td>NaN</td>\n",
       "    </tr>\n",
       "    <tr>\n",
       "      <th>431</th>\n",
       "      <td>432</td>\n",
       "      <td>Customer - Transaction - Amount</td>\n",
       "      <td>NaN</td>\n",
       "      <td>Account &amp; transactions</td>\n",
       "      <td>NaN</td>\n",
       "    </tr>\n",
       "    <tr>\n",
       "      <th>432</th>\n",
       "      <td>433</td>\n",
       "      <td>Customer - Transaction - Online / offline</td>\n",
       "      <td>NaN</td>\n",
       "      <td>Account &amp; transactions</td>\n",
       "      <td>NaN</td>\n",
       "    </tr>\n",
       "    <tr>\n",
       "      <th>433</th>\n",
       "      <td>434</td>\n",
       "      <td>Customer - Joint Account - Flag</td>\n",
       "      <td>NaN</td>\n",
       "      <td>Account &amp; transactions</td>\n",
       "      <td>NaN</td>\n",
       "    </tr>\n",
       "    <tr>\n",
       "      <th>434</th>\n",
       "      <td>431</td>\n",
       "      <td>Customer - Last Transaction - Amount</td>\n",
       "      <td>NaN</td>\n",
       "      <td>Account &amp; transactions</td>\n",
       "      <td>NaN</td>\n",
       "    </tr>\n",
       "  </tbody>\n",
       "</table>\n",
       "<p>435 rows × 5 columns</p>\n",
       "</div>"
      ],
      "text/plain": [
       "     S.no                    Standardized_Anchors_BRD_LABS BRD_FLAG  \\\n",
       "0       1                            Word count difference        Y   \n",
       "1       2                        Name structure difference        Y   \n",
       "2       3                     Name does not sound similiar        Y   \n",
       "3       4                Native name charachter difference        Y   \n",
       "4       5                                              NaN        Y   \n",
       "..    ...                                              ...      ...   \n",
       "430   431  Customer - Transaction - Number of transactions      NaN   \n",
       "431   432                  Customer - Transaction - Amount      NaN   \n",
       "432   433        Customer - Transaction - Online / offline      NaN   \n",
       "433   434                  Customer - Joint Account - Flag      NaN   \n",
       "434   431             Customer - Last Transaction - Amount      NaN   \n",
       "\n",
       "                                        Categories Category_labs  \n",
       "0                     Full Legal Name - Word Count           NaN  \n",
       "1                 Full Legal Name - Name Structure           NaN  \n",
       "2    Full Legal Name - Name Does Not Sound Similar           NaN  \n",
       "3                    Full Legal Name - Native Name          Name  \n",
       "4      Category (Vessel vs. Individual vs. Entity)           NaN  \n",
       "..                                             ...           ...  \n",
       "430                         Account & transactions           NaN  \n",
       "431                         Account & transactions           NaN  \n",
       "432                         Account & transactions           NaN  \n",
       "433                         Account & transactions           NaN  \n",
       "434                         Account & transactions           NaN  \n",
       "\n",
       "[435 rows x 5 columns]"
      ]
     },
     "execution_count": 10,
     "metadata": {},
     "output_type": "execute_result"
    }
   ],
   "source": [
    "df_features"
   ]
  },
  {
   "cell_type": "code",
   "execution_count": 11,
   "id": "3d266bf8",
   "metadata": {},
   "outputs": [],
   "source": [
    "df_features.rename(columns={\"Standardized_Anchors_BRD_LABS\":\"Anchors\"},inplace=True)"
   ]
  },
  {
   "cell_type": "code",
   "execution_count": 12,
   "id": "cc48410b",
   "metadata": {},
   "outputs": [],
   "source": [
    "df_features.dropna(subset=[\"Anchors\"],inplace=True)"
   ]
  },
  {
   "cell_type": "code",
   "execution_count": 13,
   "id": "ac18d2ad",
   "metadata": {},
   "outputs": [
    {
     "data": {
      "text/html": [
       "<div>\n",
       "<style scoped>\n",
       "    .dataframe tbody tr th:only-of-type {\n",
       "        vertical-align: middle;\n",
       "    }\n",
       "\n",
       "    .dataframe tbody tr th {\n",
       "        vertical-align: top;\n",
       "    }\n",
       "\n",
       "    .dataframe thead th {\n",
       "        text-align: right;\n",
       "    }\n",
       "</style>\n",
       "<table border=\"1\" class=\"dataframe\">\n",
       "  <thead>\n",
       "    <tr style=\"text-align: right;\">\n",
       "      <th></th>\n",
       "      <th>S.no</th>\n",
       "      <th>Anchors</th>\n",
       "      <th>BRD_FLAG</th>\n",
       "      <th>Categories</th>\n",
       "      <th>Category_labs</th>\n",
       "    </tr>\n",
       "  </thead>\n",
       "  <tbody>\n",
       "    <tr>\n",
       "      <th>0</th>\n",
       "      <td>1</td>\n",
       "      <td>Word count difference</td>\n",
       "      <td>Y</td>\n",
       "      <td>Full Legal Name - Word Count</td>\n",
       "      <td>NaN</td>\n",
       "    </tr>\n",
       "    <tr>\n",
       "      <th>1</th>\n",
       "      <td>2</td>\n",
       "      <td>Name structure difference</td>\n",
       "      <td>Y</td>\n",
       "      <td>Full Legal Name - Name Structure</td>\n",
       "      <td>NaN</td>\n",
       "    </tr>\n",
       "    <tr>\n",
       "      <th>2</th>\n",
       "      <td>3</td>\n",
       "      <td>Name does not sound similiar</td>\n",
       "      <td>Y</td>\n",
       "      <td>Full Legal Name - Name Does Not Sound Similar</td>\n",
       "      <td>NaN</td>\n",
       "    </tr>\n",
       "    <tr>\n",
       "      <th>3</th>\n",
       "      <td>4</td>\n",
       "      <td>Native name charachter difference</td>\n",
       "      <td>Y</td>\n",
       "      <td>Full Legal Name - Native Name</td>\n",
       "      <td>Name</td>\n",
       "    </tr>\n",
       "    <tr>\n",
       "      <th>5</th>\n",
       "      <td>6</td>\n",
       "      <td>Date of birth (dob)</td>\n",
       "      <td>Y</td>\n",
       "      <td>Date of Birth (DOB)</td>\n",
       "      <td>DOB</td>\n",
       "    </tr>\n",
       "    <tr>\n",
       "      <th>...</th>\n",
       "      <td>...</td>\n",
       "      <td>...</td>\n",
       "      <td>...</td>\n",
       "      <td>...</td>\n",
       "      <td>...</td>\n",
       "    </tr>\n",
       "    <tr>\n",
       "      <th>430</th>\n",
       "      <td>431</td>\n",
       "      <td>Customer - Transaction - Number of transactions</td>\n",
       "      <td>NaN</td>\n",
       "      <td>Account &amp; transactions</td>\n",
       "      <td>NaN</td>\n",
       "    </tr>\n",
       "    <tr>\n",
       "      <th>431</th>\n",
       "      <td>432</td>\n",
       "      <td>Customer - Transaction - Amount</td>\n",
       "      <td>NaN</td>\n",
       "      <td>Account &amp; transactions</td>\n",
       "      <td>NaN</td>\n",
       "    </tr>\n",
       "    <tr>\n",
       "      <th>432</th>\n",
       "      <td>433</td>\n",
       "      <td>Customer - Transaction - Online / offline</td>\n",
       "      <td>NaN</td>\n",
       "      <td>Account &amp; transactions</td>\n",
       "      <td>NaN</td>\n",
       "    </tr>\n",
       "    <tr>\n",
       "      <th>433</th>\n",
       "      <td>434</td>\n",
       "      <td>Customer - Joint Account - Flag</td>\n",
       "      <td>NaN</td>\n",
       "      <td>Account &amp; transactions</td>\n",
       "      <td>NaN</td>\n",
       "    </tr>\n",
       "    <tr>\n",
       "      <th>434</th>\n",
       "      <td>431</td>\n",
       "      <td>Customer - Last Transaction - Amount</td>\n",
       "      <td>NaN</td>\n",
       "      <td>Account &amp; transactions</td>\n",
       "      <td>NaN</td>\n",
       "    </tr>\n",
       "  </tbody>\n",
       "</table>\n",
       "<p>428 rows × 5 columns</p>\n",
       "</div>"
      ],
      "text/plain": [
       "     S.no                                          Anchors BRD_FLAG  \\\n",
       "0       1                            Word count difference        Y   \n",
       "1       2                        Name structure difference        Y   \n",
       "2       3                     Name does not sound similiar        Y   \n",
       "3       4                Native name charachter difference        Y   \n",
       "5       6                              Date of birth (dob)        Y   \n",
       "..    ...                                              ...      ...   \n",
       "430   431  Customer - Transaction - Number of transactions      NaN   \n",
       "431   432                  Customer - Transaction - Amount      NaN   \n",
       "432   433        Customer - Transaction - Online / offline      NaN   \n",
       "433   434                  Customer - Joint Account - Flag      NaN   \n",
       "434   431             Customer - Last Transaction - Amount      NaN   \n",
       "\n",
       "                                        Categories Category_labs  \n",
       "0                     Full Legal Name - Word Count           NaN  \n",
       "1                 Full Legal Name - Name Structure           NaN  \n",
       "2    Full Legal Name - Name Does Not Sound Similar           NaN  \n",
       "3                    Full Legal Name - Native Name          Name  \n",
       "5                              Date of Birth (DOB)           DOB  \n",
       "..                                             ...           ...  \n",
       "430                         Account & transactions           NaN  \n",
       "431                         Account & transactions           NaN  \n",
       "432                         Account & transactions           NaN  \n",
       "433                         Account & transactions           NaN  \n",
       "434                         Account & transactions           NaN  \n",
       "\n",
       "[428 rows x 5 columns]"
      ]
     },
     "execution_count": 13,
     "metadata": {},
     "output_type": "execute_result"
    }
   ],
   "source": [
    "df_features"
   ]
  },
  {
   "cell_type": "code",
   "execution_count": 17,
   "id": "366071df",
   "metadata": {
    "id": "366071df"
   },
   "outputs": [],
   "source": [
    "# df_features=df_features.loc[:,[\"Topic No\",\"Anchor - Topic\",\"Anchor existing list\",\"Presence\"]]\n",
    "df_features[\"Anchor_2\"]=df_features[\"Anchors\"].apply(lambda x: re.sub(\"\\s*-\\s*|\\s*/\\s*|,|\\(|\\)\",\" \",x))"
   ]
  },
  {
   "cell_type": "code",
   "execution_count": 18,
   "id": "5af6ab51",
   "metadata": {},
   "outputs": [],
   "source": [
    "df_features[\"Anchor_2\"]=df_features[\"Anchor_2\"].apply(lambda x: re.sub(\"match|mismatch\",\"\",x))"
   ]
  },
  {
   "cell_type": "code",
   "execution_count": 19,
   "id": "c72966b0",
   "metadata": {
    "id": "c72966b0",
    "scrolled": true
   },
   "outputs": [
    {
     "data": {
      "text/plain": [
       "(428,)"
      ]
     },
     "execution_count": 19,
     "metadata": {},
     "output_type": "execute_result"
    }
   ],
   "source": [
    "df_features[\"Anchor_2\"].shape"
   ]
  },
  {
   "cell_type": "code",
   "execution_count": 20,
   "id": "e5ebce60",
   "metadata": {},
   "outputs": [],
   "source": [
    "df_features[\"Anchor_2\"]=df_features[\"Anchor_2\"].str.lower()"
   ]
  },
  {
   "cell_type": "code",
   "execution_count": 21,
   "id": "aafaf3d3",
   "metadata": {},
   "outputs": [
    {
     "data": {
      "text/plain": [
       "'mismatch ID number  - NRIC'"
      ]
     },
     "execution_count": 21,
     "metadata": {},
     "output_type": "execute_result"
    }
   ],
   "source": [
    "patt_10=re.compile(\"(match|mismatch|false hit|true hit|material|non-material|non material)\",re.IGNORECASE)\n",
    "\n",
    "df[\"Match_Mismatch\"]=df[\"V_COMMENTS\"].apply(lambda x: re.findall(patt_10,x))\n",
    "\n",
    "# patt_10=re.compile(\"(match|mismatch)\",re.IGNORECASE)\n",
    "# patt_11=re.compile(\"(false hit|true hit)\",re.IGNORECASE)\n",
    "# df[\"Match_Mismatch\"]=df[\"V_COMMENTS\"].str.extract(patt_10)\n",
    "# df[\"True_False_hit\"]=df[\"V_COMMENTS\"].str.extract(patt_11)\n",
    "\n",
    "df[\"V_COMMENTS\"].loc[29]"
   ]
  },
  {
   "cell_type": "code",
   "execution_count": 22,
   "id": "d3e75617",
   "metadata": {},
   "outputs": [],
   "source": [
    "import ast\n",
    "# df[\"Tokens\"]=df[\"Tokens\"].apply(lambda x: ast.literal_eval(x))"
   ]
  },
  {
   "cell_type": "code",
   "execution_count": null,
   "id": "0aa1dce3",
   "metadata": {},
   "outputs": [],
   "source": []
  },
  {
   "cell_type": "markdown",
   "id": "e04de88e",
   "metadata": {
    "id": "e04de88e"
   },
   "source": [
    "# Pre-processing on Data"
   ]
  },
  {
   "cell_type": "markdown",
   "id": "e554117e",
   "metadata": {
    "id": "e554117e"
   },
   "source": [
    "### Step -1 removing noisy data"
   ]
  },
  {
   "cell_type": "code",
   "execution_count": 23,
   "id": "791fed08",
   "metadata": {
    "id": "791fed08"
   },
   "outputs": [],
   "source": [
    "import calendar\n",
    "cal=list(calendar.month_name)\n",
    "for i in list(calendar.month_name[1:]):\n",
    "    cal.append(i[:3])"
   ]
  },
  {
   "cell_type": "code",
   "execution_count": 24,
   "id": "ded48e92",
   "metadata": {
    "id": "ded48e92"
   },
   "outputs": [],
   "source": [
    "patt1=re.compile(\"Match ID and/or Full Legal Name\",re.IGNORECASE)\n",
    "\n",
    "# patt2=re.compile(\"Agreed with analyst recommendation|Agreed with analyst's recommendation|Agreed as per Maker comment|Agreed as per Maker's comment\")\n",
    "patt2=re.compile(\"(Agreed|agree) (to|with|as per) (analyst(('s)*)|maker(('s)*)) (comment|recommendation|is recommendation)\",re.IGNORECASE)\n",
    "patt3=re.compile(\"Unknown|false hit\\.*|true hit\\.*|mismatch\\.*|match\\.*|non-material|non material\\.*|Rationale|Source\",re.IGNORECASE)\n",
    "patt4=re.compile(\"CSCDD7|CSCDD1|CSCDD4\",re.IGNORECASE)\n",
    "patt5=re.compile(\"SCC6|No further review is required by analyst|SC/DEL\",re.IGNORECASE)\n",
    "patt6=re.compile(\"https?://\\S+|www\\.\\S+\",re.IGNORECASE)\n",
    "patt7=re.compile(\"(%s)\"%\"|\".join(cal)[1:],re.IGNORECASE)\n",
    "patt8=re.compile(\"\\s*(Mohd|NORAINI|ABDULLAH|BINTI|system|legal|stated|ABD|mahdzir|bin|khalid|siti|hajar|mohd|sallehudin|mohd|saddam|inie|binti|abdullah|noraini|norliza|binti|othman)\\s*\",re.IGNORECASE)\n",
    "# patt_11=re.compile(\"\",re.IGNORECASE)"
   ]
  },
  {
   "cell_type": "code",
   "execution_count": 25,
   "id": "216693e1",
   "metadata": {
    "id": "216693e1"
   },
   "outputs": [],
   "source": [
    "df[\"V_COMMENTS_PROCESSED\"]=df[\"V_COMMENTS\"].apply(lambda x: re.sub(\"\\n\",\" \",x)) #1\n",
    "# df[\"V_COMMENTS_PROCESSED\"]=df[\"V_COMMENTS_PROCESSED\"].apply(lambda x: re.sub(patt_11,\"nonmaterial\",x))\n",
    "df[\"V_COMMENTS_PROCESSED\"]=df[\"V_COMMENTS_PROCESSED\"].apply(lambda x: re.sub(\"Name – Name\",\"Name\",x))    #2\n",
    "df[\"V_COMMENTS_PROCESSED\"]=df[\"V_COMMENTS_PROCESSED\"].apply(lambda x: re.sub(\"Name_Name\",\"Name\",x))      #3\n",
    "df[\"V_COMMENTS_PROCESSED\"]=df[\"V_COMMENTS_PROCESSED\"].apply(lambda x: re.sub(\"\\s*_\\s*|\\s*-\\s*\",\" \",x)) #4,5\n",
    "df=df[df[\"V_COMMENTS_PROCESSED\"].str.contains(patt1)==False] #7\n",
    "df[\"V_COMMENTS_PROCESSED\"]=df[\"V_COMMENTS_PROCESSED\"].apply(lambda x: re.sub(patt2,\"\",x)) #8\n",
    "df[\"V_COMMENTS_PROCESSED\"]=df[\"V_COMMENTS_PROCESSED\"].apply(lambda x: re.sub(patt3,\" \",x))  #  9\n",
    "df=df[df[\"V_COMMENTS_PROCESSED\"].str.contains(patt4)==False]        # 10\n",
    "df=df[df[\"V_COMMENTS_PROCESSED\"].str.contains(patt5)==False]       #11\n",
    "df[\"V_COMMENTS_PROCESSED\"]=df[\"V_COMMENTS_PROCESSED\"].apply(lambda x: re.sub(patt6,\"\",x)) #15\n",
    "df[\"V_COMMENTS_PROCESSED\"]=df[\"V_COMMENTS_PROCESSED\"].apply(lambda x: re.sub(\"[^\\w\\s\\.]|\\d\",\" \",x))\n",
    "df[\"V_COMMENTS_PROCESSED\"]=df[\"V_COMMENTS_PROCESSED\"].apply(lambda x: re.sub(\"\\d*\",\"\",x))    #date, year, accounts 6\n",
    "df[\"V_COMMENTS_PROCESSED\"]=df[\"V_COMMENTS_PROCESSED\"].apply(lambda x: re.sub(patt7,\"\",x))    # month 6\n",
    "df[\"V_COMMENTS_PROCESSED\"]=df[\"V_COMMENTS_PROCESSED\"].apply(lambda x: re.sub(patt8,\" \",x)) # 17\n"
   ]
  },
  {
   "cell_type": "code",
   "execution_count": 26,
   "id": "2030bb44",
   "metadata": {},
   "outputs": [],
   "source": [
    "df[\"V_COMMENTS_PROCESSED\"]=df[\"V_COMMENTS_PROCESSED\"].str.lower()"
   ]
  },
  {
   "cell_type": "code",
   "execution_count": 27,
   "id": "11f28b7d",
   "metadata": {
    "id": "11f28b7d"
   },
   "outputs": [],
   "source": [
    "# import nltk\n",
    "# nltk.download('punkt')"
   ]
  },
  {
   "cell_type": "code",
   "execution_count": 28,
   "id": "d5e9313f",
   "metadata": {},
   "outputs": [],
   "source": [
    "def remove_stopwords(document):\n",
    "    \"Return the articles after remvoing stopwords\"\n",
    "    article_tokens = word_tokenize(document) \n",
    "    filtered_article = [word for word in article_tokens if not word in stop_words] \n",
    "    return \" \".join(filtered_article)"
   ]
  },
  {
   "cell_type": "code",
   "execution_count": 29,
   "id": "88e0857b",
   "metadata": {},
   "outputs": [],
   "source": [
    "stop_words = set(stopwords.words('english')) "
   ]
  },
  {
   "cell_type": "code",
   "execution_count": 30,
   "id": "cc22ac30",
   "metadata": {},
   "outputs": [],
   "source": [
    "#removing stopwords\n",
    "df.V_COMMENTS_PROCESSED=df.V_COMMENTS_PROCESSED.apply(lambda x: remove_stopwords(x))"
   ]
  },
  {
   "cell_type": "code",
   "execution_count": 31,
   "id": "2f2b4d98",
   "metadata": {
    "id": "2f2b4d98"
   },
   "outputs": [],
   "source": [
    "df[\"V_COMMENTS_TOKENS\"]=df[\"V_COMMENTS_PROCESSED\"].apply(lambda x: word_tokenize(x))"
   ]
  },
  {
   "cell_type": "code",
   "execution_count": 34,
   "id": "3224dc56",
   "metadata": {
    "id": "3224dc56"
   },
   "outputs": [],
   "source": [
    "# for i,row in df.iterrows():\n",
    "#     if \".\" in row[\"V_COMMENTS_TOKENS\"]:\n",
    "#         row[\"V_COMMENTS_TOKENS\"].remove(\".\")"
   ]
  },
  {
   "cell_type": "code",
   "execution_count": null,
   "id": "3257fdaf",
   "metadata": {
    "id": "3257fdaf"
   },
   "outputs": [],
   "source": [
    "\n",
    "df_features[\"Anchor_2\"]=df_features[\"Anchor_2\"].apply(lambda x: remove_stopwords(x))\n",
    "# df_features[\"Anchor_Tokens\"]=df_features[\"Anchor_2\"].apply(lambda x:word_tokenize(x) )"
   ]
  },
  {
   "cell_type": "code",
   "execution_count": null,
   "id": "d8d58704",
   "metadata": {},
   "outputs": [],
   "source": []
  },
  {
   "cell_type": "code",
   "execution_count": null,
   "id": "8eb3b8d5",
   "metadata": {
    "id": "8eb3b8d5"
   },
   "outputs": [],
   "source": []
  },
  {
   "cell_type": "code",
   "execution_count": 36,
   "id": "1d807d31",
   "metadata": {
    "id": "1d807d31"
   },
   "outputs": [],
   "source": [
    "# l1=df[\"V_COMMENTS_TOKENS\"].to_list()\n",
    "# l2=df_features[\"Anchor_Tokens\"].to_list()"
   ]
  },
  {
   "cell_type": "code",
   "execution_count": 32,
   "id": "a29e3cb8",
   "metadata": {
    "id": "a29e3cb8",
    "scrolled": true
   },
   "outputs": [],
   "source": [
    "df[\"V_COMMENTS_3\"]=df[\"V_COMMENTS_PROCESSED\"].apply(lambda x: sent_tokenize(x))\n"
   ]
  },
  {
   "cell_type": "code",
   "execution_count": 33,
   "id": "f903d3a2",
   "metadata": {},
   "outputs": [
    {
     "data": {
      "text/plain": [
       "0                                         [id number nric]\n",
       "1                                [full name sound similar]\n",
       "2                                         [id number nric]\n",
       "3                                [full name sound similar]\n",
       "4                                         [date birth dob]\n",
       "                               ...                        \n",
       "91980    [occupation customer work agricultural forestr...\n",
       "91981    [occupation customer work agricultural forestr...\n",
       "91982    [occupation customer work agricultural forestr...\n",
       "91983    [occupation customer work agricultural forestr...\n",
       "91984    [watchperson sentenced shizuishan municipal in...\n",
       "Name: V_COMMENTS_3, Length: 91685, dtype: object"
      ]
     },
     "execution_count": 33,
     "metadata": {},
     "output_type": "execute_result"
    }
   ],
   "source": [
    "df[\"V_COMMENTS_3\"]"
   ]
  },
  {
   "cell_type": "code",
   "execution_count": 34,
   "id": "b97679e7",
   "metadata": {
    "id": "b97679e7"
   },
   "outputs": [],
   "source": [
    "df[\"V_COMMENTS_3\"]=df[\"V_COMMENTS_3\"].apply(lambda x:[i.replace(\".\",\"\") for i in x])"
   ]
  },
  {
   "cell_type": "code",
   "execution_count": 35,
   "id": "7ec4f54a",
   "metadata": {
    "id": "7ec4f54a"
   },
   "outputs": [
    {
     "data": {
      "text/html": [
       "<div>\n",
       "<style scoped>\n",
       "    .dataframe tbody tr th:only-of-type {\n",
       "        vertical-align: middle;\n",
       "    }\n",
       "\n",
       "    .dataframe tbody tr th {\n",
       "        vertical-align: top;\n",
       "    }\n",
       "\n",
       "    .dataframe thead th {\n",
       "        text-align: right;\n",
       "    }\n",
       "</style>\n",
       "<table border=\"1\" class=\"dataframe\">\n",
       "  <thead>\n",
       "    <tr style=\"text-align: right;\">\n",
       "      <th></th>\n",
       "      <th>V_COMMENTS</th>\n",
       "      <th>V_COMMENTS_3</th>\n",
       "    </tr>\n",
       "  </thead>\n",
       "  <tbody>\n",
       "    <tr>\n",
       "      <th>0</th>\n",
       "      <td>Mismatch ID number_NRIC</td>\n",
       "      <td>[id number nric]</td>\n",
       "    </tr>\n",
       "    <tr>\n",
       "      <th>1</th>\n",
       "      <td>Mismatch Full Legal Name – Name Does Not Sound...</td>\n",
       "      <td>[full name sound similar]</td>\n",
       "    </tr>\n",
       "    <tr>\n",
       "      <th>2</th>\n",
       "      <td>Mismatch ID number_NRIC\\n</td>\n",
       "      <td>[id number nric]</td>\n",
       "    </tr>\n",
       "    <tr>\n",
       "      <th>3</th>\n",
       "      <td>Mismatch Full Legal Name_Name Does Not Sound S...</td>\n",
       "      <td>[full name sound similar]</td>\n",
       "    </tr>\n",
       "    <tr>\n",
       "      <th>4</th>\n",
       "      <td>Mismatch Date of Birth (DOB)</td>\n",
       "      <td>[date birth dob]</td>\n",
       "    </tr>\n",
       "    <tr>\n",
       "      <th>...</th>\n",
       "      <td>...</td>\n",
       "      <td>...</td>\n",
       "    </tr>\n",
       "    <tr>\n",
       "      <th>91980</th>\n",
       "      <td>Mismatch Occupation - Customer work as AGRICUL...</td>\n",
       "      <td>[occupation customer work agricultural forestr...</td>\n",
       "    </tr>\n",
       "    <tr>\n",
       "      <th>91981</th>\n",
       "      <td>Mismatch Occupation - Customer work as AGRICUL...</td>\n",
       "      <td>[occupation customer work agricultural forestr...</td>\n",
       "    </tr>\n",
       "    <tr>\n",
       "      <th>91982</th>\n",
       "      <td>Mismatch Occupation - Customer work as AGRICUL...</td>\n",
       "      <td>[occupation customer work agricultural forestr...</td>\n",
       "    </tr>\n",
       "    <tr>\n",
       "      <th>91983</th>\n",
       "      <td>Mismatch Occupation - Customer work as AGRICUL...</td>\n",
       "      <td>[occupation customer work agricultural forestr...</td>\n",
       "    </tr>\n",
       "    <tr>\n",
       "      <th>91984</th>\n",
       "      <td>“True Hit Non-Material.Dec 2006 - Watchperson ...</td>\n",
       "      <td>[watchperson sentenced shizuishan municipal in...</td>\n",
       "    </tr>\n",
       "  </tbody>\n",
       "</table>\n",
       "<p>91685 rows × 2 columns</p>\n",
       "</div>"
      ],
      "text/plain": [
       "                                              V_COMMENTS  \\\n",
       "0                                Mismatch ID number_NRIC   \n",
       "1      Mismatch Full Legal Name – Name Does Not Sound...   \n",
       "2                              Mismatch ID number_NRIC\\n   \n",
       "3      Mismatch Full Legal Name_Name Does Not Sound S...   \n",
       "4                           Mismatch Date of Birth (DOB)   \n",
       "...                                                  ...   \n",
       "91980  Mismatch Occupation - Customer work as AGRICUL...   \n",
       "91981  Mismatch Occupation - Customer work as AGRICUL...   \n",
       "91982  Mismatch Occupation - Customer work as AGRICUL...   \n",
       "91983  Mismatch Occupation - Customer work as AGRICUL...   \n",
       "91984  “True Hit Non-Material.Dec 2006 - Watchperson ...   \n",
       "\n",
       "                                            V_COMMENTS_3  \n",
       "0                                       [id number nric]  \n",
       "1                              [full name sound similar]  \n",
       "2                                       [id number nric]  \n",
       "3                              [full name sound similar]  \n",
       "4                                       [date birth dob]  \n",
       "...                                                  ...  \n",
       "91980  [occupation customer work agricultural forestr...  \n",
       "91981  [occupation customer work agricultural forestr...  \n",
       "91982  [occupation customer work agricultural forestr...  \n",
       "91983  [occupation customer work agricultural forestr...  \n",
       "91984  [watchperson sentenced shizuishan municipal in...  \n",
       "\n",
       "[91685 rows x 2 columns]"
      ]
     },
     "execution_count": 35,
     "metadata": {},
     "output_type": "execute_result"
    }
   ],
   "source": [
    "df[[\"V_COMMENTS\",\"V_COMMENTS_3\"]]"
   ]
  },
  {
   "cell_type": "code",
   "execution_count": 41,
   "id": "d21fb346",
   "metadata": {
    "id": "d21fb346",
    "scrolled": true
   },
   "outputs": [],
   "source": [
    "# ind1=df[df[\"V_COMMENTS_3\"].apply(lambda x: np.any([len(i)>50 for i in x]))][[\"V_COMMENTS_3\",\"V_COMMENTS\"]].index"
   ]
  },
  {
   "cell_type": "code",
   "execution_count": 42,
   "id": "919ad9ce",
   "metadata": {},
   "outputs": [],
   "source": [
    "# Sentence bert"
   ]
  },
  {
   "cell_type": "code",
   "execution_count": 43,
   "id": "96fee024",
   "metadata": {},
   "outputs": [],
   "source": [
    "# pip install -U sentence-transformers"
   ]
  },
  {
   "cell_type": "code",
   "execution_count": 77,
   "id": "882e5ab1-9b5d-4675-96b0-75017edf1a78",
   "metadata": {},
   "outputs": [],
   "source": []
  },
  {
   "cell_type": "code",
   "execution_count": 79,
   "id": "06236656-27f2-4c85-ac0e-bf640b7d87cb",
   "metadata": {},
   "outputs": [],
   "source": []
  },
  {
   "cell_type": "code",
   "execution_count": 59,
   "id": "753868ef",
   "metadata": {},
   "outputs": [],
   "source": [
    "# Load BERT model and tokenizer\n",
    "from sentence_transformers import SentenceTransformer, util\n",
    "\n",
    "# Load a pre-trained BERT model for sentence embeddings\n",
    "\n",
    "model = model = SentenceTransformer(\"all-MiniLM-L6-v2\")"
   ]
  },
  {
   "cell_type": "code",
   "execution_count": 45,
   "id": "5bf5dfad",
   "metadata": {},
   "outputs": [
    {
     "name": "stdout",
     "output_type": "stream",
     "text": [
      "Similarity Score: 0.3741147816181183\n"
     ]
    }
   ],
   "source": [
    "# Example word and sentence\n",
    "word = \"A human\"\n",
    "sentence = \"A human is the most destructive species.\"\n",
    "\n",
    "# Obtain embeddings for the word and the sentence\n",
    "word_embedding = model.encode(word, convert_to_tensor=True)\n",
    "sentence_embedding = model.encode(sentence, convert_to_tensor=True)\n",
    "\n",
    "# Calculate cosine similarity between the word and the sentence\n",
    "similarity_score = util.pytorch_cos_sim(word_embedding, sentence_embedding).item()\n",
    "\n",
    "print(f\"Similarity Score: {similarity_score}\")"
   ]
  },
  {
   "cell_type": "code",
   "execution_count": 46,
   "id": "ca0b21ba",
   "metadata": {},
   "outputs": [],
   "source": [
    "df_features[\"Feat_vect\"]=df_features[\"Anchor_2\"].apply(lambda x: model.encode(x, convert_to_tensor=True))"
   ]
  },
  {
   "cell_type": "code",
   "execution_count": null,
   "id": "1c05427f-c8d1-4220-a736-0c79361056ea",
   "metadata": {},
   "outputs": [],
   "source": []
  },
  {
   "cell_type": "code",
   "execution_count": 47,
   "id": "9719f519",
   "metadata": {},
   "outputs": [],
   "source": [
    "df_samp=df.loc[:10000]"
   ]
  },
  {
   "cell_type": "code",
   "execution_count": 36,
   "id": "a7449c55-ed6c-4211-abc1-046da4d3572c",
   "metadata": {},
   "outputs": [
    {
     "data": {
      "text/plain": [
       "0                            word count difference\n",
       "1                        name structure difference\n",
       "2                     name does not sound similiar\n",
       "3                native name charachter difference\n",
       "5                              date of birth  dob \n",
       "                          ...                     \n",
       "430    customer transaction number of transactions\n",
       "431                    customer transaction amount\n",
       "432            customer transaction online offline\n",
       "433                    customer joint account flag\n",
       "434               customer last transaction amount\n",
       "Name: Anchor_2, Length: 428, dtype: object"
      ]
     },
     "execution_count": 36,
     "metadata": {},
     "output_type": "execute_result"
    }
   ],
   "source": [
    "df_features[\"Anchor_2\"]"
   ]
  },
  {
   "cell_type": "code",
   "execution_count": 38,
   "id": "343393c7-a24e-41bd-9ec2-6cedc421775b",
   "metadata": {},
   "outputs": [],
   "source": []
  },
  {
   "cell_type": "code",
   "execution_count": 45,
   "id": "1abacc59-4dc1-4129-81b0-c70ff2220be6",
   "metadata": {},
   "outputs": [],
   "source": []
  },
  {
   "cell_type": "code",
   "execution_count": null,
   "id": "30f2025c-fe04-429e-b17a-3cffcca31a73",
   "metadata": {},
   "outputs": [],
   "source": []
  },
  {
   "cell_type": "code",
   "execution_count": 48,
   "id": "e16e97ea",
   "metadata": {},
   "outputs": [],
   "source": [
    "# df_samp=pd.concat([df_samp,df.tail(100)],axis=0,join=\"outer\")\n",
    "# "
   ]
  },
  {
   "cell_type": "code",
   "execution_count": 49,
   "id": "f5b2b804",
   "metadata": {},
   "outputs": [],
   "source": [
    "# df_samp.reset_index(inplace=True)"
   ]
  },
  {
   "cell_type": "code",
   "execution_count": 50,
   "id": "0588e989",
   "metadata": {},
   "outputs": [],
   "source": [
    "df_samp[\"Comm_vec\"]=df_samp[\"V_COMMENTS_3\"].apply(lambda x: [model.encode(sent, convert_to_tensor=True) for sent in x])"
   ]
  },
  {
   "cell_type": "code",
   "execution_count": 51,
   "id": "6ef54e5e",
   "metadata": {},
   "outputs": [
    {
     "data": {
      "text/plain": [
       "(0    [[tensor(-0.1136), tensor(0.0560), tensor(-0.1...\n",
       " 1    [[tensor(-0.0589), tensor(-0.0617), tensor(-0....\n",
       " 2    [[tensor(-0.1136), tensor(0.0560), tensor(-0.1...\n",
       " 3    [[tensor(-0.0589), tensor(-0.0617), tensor(-0....\n",
       " 4    [[tensor(-0.0567), tensor(0.0560), tensor(-0.0...\n",
       " Name: Comm_vec, dtype: object,\n",
       " 0    [tensor(0.0634), tensor(-0.0251), tensor(-0.01...\n",
       " 1    [tensor(-0.0765), tensor(-0.0207), tensor(-0.0...\n",
       " 2    [tensor(-0.0402), tensor(-0.0885), tensor(-0.0...\n",
       " 3    [tensor(-0.0212), tensor(-0.0580), tensor(-0.0...\n",
       " 5    [tensor(-0.0567), tensor(0.0560), tensor(-0.00...\n",
       " Name: Feat_vect, dtype: object)"
      ]
     },
     "execution_count": 51,
     "metadata": {},
     "output_type": "execute_result"
    }
   ],
   "source": [
    "df_samp[\"Comm_vec\"].head(),df_features[\"Feat_vect\"].head()"
   ]
  },
  {
   "cell_type": "code",
   "execution_count": 53,
   "id": "d73f3949",
   "metadata": {},
   "outputs": [],
   "source": [
    "df_samp[\"Features_present_cosine\"]=\"\"\n",
    "def f(x,y):\n",
    "      l=[]\n",
    "      for sent_vec,sent in zip(x,y):\n",
    "          l.append(sorted([[util.pytorch_cos_sim( sent_vec,feat).item(),feat_name, sent] for feat,feat_name in zip(df_features[\"Feat_vect\"],df_features[\"Anchor_2\"]) if util.pytorch_cos_sim( sent_vec,feat).item() >0.5 ],key=lambda x: x[0],reverse=True) )\n",
    "\n",
    "      return l\n",
    "for i,vecs,comm in zip(df_samp.index[:1000],df_samp[\"Comm_vec\"].loc[:999],df_samp[\"V_COMMENTS_3\"].loc[:999]):\n",
    "\n",
    "    df_samp[\"Features_present_cosine\"].loc[i]=f(vecs,comm)\n",
    "# df_samp[df_samp.loc[:,\"Vect\"].apply(lambda x:np.array(x).shape==(9,))][\"Vect\"][24230]\n",
    "# df_samp[\"Vect_copy\"]=df_samp[\"Vect\"].apply(lambda x:[np.zeros((1,50) ) if np.any(pd.isna(i)) else i for i in x  ])"
   ]
  },
  {
   "cell_type": "code",
   "execution_count": 54,
   "id": "f0c8dddf",
   "metadata": {
    "scrolled": true
   },
   "outputs": [],
   "source": [
    "df_samp[\"Features_present_cosine\"]=df_samp[\"Features_present_cosine\"].apply(lambda x: [i for i in x if i!=[]])"
   ]
  },
  {
   "cell_type": "code",
   "execution_count": null,
   "id": "c2e17dd7",
   "metadata": {},
   "outputs": [],
   "source": [
    "# df_samp[\"Features_present_cosine_2\"]=df_samp[\"Features_present_cosine\"].apply(lambda x: x[0] if len(x)>1 else x)"
   ]
  },
  {
   "cell_type": "code",
   "execution_count": 55,
   "id": "c3e3eba2",
   "metadata": {
    "scrolled": true
   },
   "outputs": [],
   "source": [
    "\n",
    "df_samp[\"Features_present_cosine\"]=df_samp[\"Features_present_cosine\"].apply(lambda x: [ j for i in x for j in i])"
   ]
  },
  {
   "cell_type": "code",
   "execution_count": 57,
   "id": "2298c8a0",
   "metadata": {},
   "outputs": [],
   "source": [
    "# df_samp[\"Features_present_cosine_top_5\"]"
   ]
  },
  {
   "cell_type": "code",
   "execution_count": 58,
   "id": "642e91d7",
   "metadata": {},
   "outputs": [],
   "source": [
    "df_samp[\"Features_present_cosine_top_5\"]=df_samp[\"Features_present_cosine\"].apply(lambda x: sorted(x,key=lambda x:x[0],reverse=True))"
   ]
  },
  {
   "cell_type": "code",
   "execution_count": 59,
   "id": "0b8c3361",
   "metadata": {},
   "outputs": [],
   "source": [
    "df_samp[\"Features_present_cosine_actual_anchors\"]=df_samp[\"Features_present_cosine_top_5\"].apply(lambda x: [i[1] for i in x])"
   ]
  },
  {
   "cell_type": "code",
   "execution_count": null,
   "id": "635488ce",
   "metadata": {},
   "outputs": [],
   "source": []
  },
  {
   "cell_type": "code",
   "execution_count": 60,
   "id": "c056e101",
   "metadata": {},
   "outputs": [],
   "source": [
    "df_samp[\"Features_present_cosine_actual_anchors\"]=df_samp[\"Features_present_cosine_actual_anchors\"].apply(lambda x: list(set(x)))"
   ]
  },
  {
   "cell_type": "code",
   "execution_count": 61,
   "id": "6d4602c5",
   "metadata": {},
   "outputs": [],
   "source": [
    "df_samp[\"Feat_Categories\"]=\"\""
   ]
  },
  {
   "cell_type": "code",
   "execution_count": 62,
   "id": "5482852a",
   "metadata": {},
   "outputs": [],
   "source": [
    "categories=[]\n",
    "for i in df_features[[\"Anchor_2\",\"Categories\"]].values:\n",
    "    categories.append(list(i))"
   ]
  },
  {
   "cell_type": "code",
   "execution_count": 63,
   "id": "8dbce33a",
   "metadata": {
    "scrolled": true
   },
   "outputs": [
    {
     "data": {
      "text/plain": [
       "[['word count difference', 'Full Legal Name - Word Count'],\n",
       " ['name structure difference', 'Full Legal Name - Name Structure'],\n",
       " ['name sound similiar', 'Full Legal Name - Name Does Not Sound Similar'],\n",
       " ['native name charachter difference', 'Full Legal Name - Native Name'],\n",
       " ['date birth dob', 'Date of Birth (DOB)'],\n",
       " ['year birth yob age age date', 'Age/ Year of Birth (YOB)'],\n",
       " ['match place birth', 'Place of Birth'],\n",
       " ['id number nric', 'Identification Number - NRIC'],\n",
       " ['id citizenship number', 'Identification Number - Citizenship Number'],\n",
       " ['watch person deceased date', 'Deceased Status'],\n",
       " ['watch person age deceased', 'Deceased Status'],\n",
       " ['watch person deceased flag', 'Deceased Status'],\n",
       " ['customer deceased flag', 'Deceased Status'],\n",
       " ['customer deceased date', 'Deceased Status'],\n",
       " ['gender', 'Gender'],\n",
       " ['father name', \"Father's Name \"],\n",
       " ['customer occupation biography profile', 'Biography/ Occupation'],\n",
       " ['customer occupation biography profile', 'Biography/ Occupation'],\n",
       " ['watch person occupation biography profile', 'Biography/ Occupation'],\n",
       " ['watch person job work location', 'Biography/ Occupation'],\n",
       " ['watch person job work date', 'Biography/ Occupation'],\n",
       " ['customer job work location', 'Biography/ Occupation'],\n",
       " ['customer job work date', 'Biography/ Occupation'],\n",
       " ['watch person spouse occupation profile', 'Biography/ Occupation'],\n",
       " ['watch person mother occupation profile', 'Biography/ Occupation'],\n",
       " ['watch person father occupation profile', 'Biography/ Occupation'],\n",
       " ['watch person son occupation profile', 'Biography/ Occupation'],\n",
       " ['watch person daughter occupation profile', 'Biography/ Occupation'],\n",
       " ['passport id number', 'Identification Number - Passport Number'],\n",
       " ['spouse name', 'Name'],\n",
       " ['mother name', 'Name'],\n",
       " ['customer date birth age age date', 'DOB'],\n",
       " ['watch person father date birth age & age date', 'DOB'],\n",
       " ['watch person mother date birth age & age date', 'DOB'],\n",
       " ['watch person daughter date birth age & age date', 'DOB'],\n",
       " ['watch person son date birth age & age date', 'DOB'],\n",
       " ['watch person daughter law date birth age & age date', 'DOB'],\n",
       " ['watch person son law date birth age & age date', 'DOB'],\n",
       " ['date birth dob fall within watch person dob range', 'DOB'],\n",
       " ['old ic number', 'ID'],\n",
       " ['match indentification number', 'ID'],\n",
       " ['id tax identification number', 'ID'],\n",
       " ['watch person spouse location', 'Related Parties'],\n",
       " ['match spouse date year birth dob yob', 'Related Parties'],\n",
       " ['match spouse id number nric', 'Related Parties'],\n",
       " ['match spouse passport number', 'Related Parties'],\n",
       " ['match spouse nationality', 'Related Parties'],\n",
       " ['match spouse place birth', 'Related Parties'],\n",
       " ['watch person spouse pep 7 years', 'Related Parties'],\n",
       " ['watch person spouse deceased flag', 'Related Parties'],\n",
       " ['watch person spouse deceased date', 'Related Parties'],\n",
       " ['customer spouse transaction count transaction', 'Related Parties'],\n",
       " ['customer spouse transaction total amount', 'Related Parties'],\n",
       " ['customer spouse transaction location', 'Related Parties'],\n",
       " ['watch person mother location', 'Related Parties'],\n",
       " ['match mother date year birth dob yob', 'Related Parties'],\n",
       " ['match mother id number nric', 'Related Parties'],\n",
       " ['match mother passport number', 'Related Parties'],\n",
       " ['match mother nationality', 'Related Parties'],\n",
       " ['match mother place birth', 'Related Parties'],\n",
       " ['watch person mother pep 7 years', 'Related Parties'],\n",
       " ['watch person mother deceased flag', 'Related Parties'],\n",
       " ['watch person mother deceased date', 'Related Parties'],\n",
       " ['customer mother transaction count transaction', 'Related Parties'],\n",
       " ['customer mother transaction total amount', 'Related Parties'],\n",
       " ['customer mother transaction location', 'Related Parties'],\n",
       " ['match father name', 'Related Parties'],\n",
       " ['watch person father location', 'Related Parties'],\n",
       " ['match father date year birth dob yob', 'Related Parties'],\n",
       " ['match father id number nric', 'Related Parties'],\n",
       " ['match father passport number', 'Related Parties'],\n",
       " ['match father nationality', 'Related Parties'],\n",
       " ['match father place birth', 'Related Parties'],\n",
       " ['watch person father pep 7 years', 'Related Parties'],\n",
       " ['watch person father deceased flag', 'Related Parties'],\n",
       " ['watch person father deceased date', 'Related Parties'],\n",
       " ['customer father transaction count transaction', 'Related Parties'],\n",
       " ['customer father transaction total amount', 'Related Parties'],\n",
       " ['customer father transaction location', 'Related Parties'],\n",
       " ['match brother name', 'Related Parties'],\n",
       " ['watch person brother location', 'Related Parties'],\n",
       " ['match brother date year birth dob yob', 'Related Parties'],\n",
       " ['watch person brother occupation profile', 'Related Parties'],\n",
       " ['match brother id number nric', 'Related Parties'],\n",
       " ['match brother passport number', 'Related Parties'],\n",
       " ['match brother nationality', 'Related Parties'],\n",
       " ['match brother place birth', 'Related Parties'],\n",
       " ['watch person brother pep 7 years', 'Related Parties'],\n",
       " ['watch person brother deceased flag', 'Related Parties'],\n",
       " ['watch person brother deceased date', 'Related Parties'],\n",
       " ['customer brother transaction count transaction', 'Related Parties'],\n",
       " ['customer brother transaction total amount', 'Related Parties'],\n",
       " ['customer brother transaction location', 'Related Parties'],\n",
       " ['match sister name', 'Related Parties'],\n",
       " ['watch person sister location', 'Related Parties'],\n",
       " ['match sister date year birth dob yob', 'Related Parties'],\n",
       " ['watch person sister occupation profile', 'Related Parties'],\n",
       " ['match sister id number nric', 'Related Parties'],\n",
       " ['match sister passport number', 'Related Parties'],\n",
       " ['match sister nationality', 'Related Parties'],\n",
       " ['match sister place birth', 'Related Parties'],\n",
       " ['watch person sister pep 7 years', 'Related Parties'],\n",
       " ['watch person sister deceased flag', 'Related Parties'],\n",
       " ['watch person sister deceased date', 'Related Parties'],\n",
       " ['customer sister transaction count transaction', 'Related Parties'],\n",
       " ['customer sister transaction total amount', 'Related Parties'],\n",
       " ['customer sister transaction location', 'Related Parties'],\n",
       " ['match son name', 'Related Parties'],\n",
       " ['watch person son location', 'Related Parties'],\n",
       " ['match son date year birth dob yob', 'Related Parties'],\n",
       " ['watch person son occupation profile', 'Related Parties'],\n",
       " ['match son id number nric', 'Related Parties'],\n",
       " ['match son passport number', 'Related Parties'],\n",
       " ['match son nationality', 'Related Parties'],\n",
       " ['match son place birth', 'Related Parties'],\n",
       " ['watch person son pep 7 years', 'Related Parties'],\n",
       " ['watch person son deceased flag', 'Related Parties'],\n",
       " ['watch person son deceased date', 'Related Parties'],\n",
       " ['customer son transaction count transaction', 'Related Parties'],\n",
       " ['customer son transaction total amount', 'Related Parties'],\n",
       " ['customer son transaction location', 'Related Parties'],\n",
       " ['match daughter name', 'Related Parties'],\n",
       " ['watch person daughter location', 'Related Parties'],\n",
       " ['match daughter date year birth dob yob', 'Related Parties'],\n",
       " ['watch person daughter occupation profile', 'Related Parties'],\n",
       " ['match daughter id number nric', 'Related Parties'],\n",
       " ['match daughter passport number', 'Related Parties'],\n",
       " ['match daughter nationality', 'Related Parties'],\n",
       " ['match daughter place birth', 'Related Parties'],\n",
       " ['watch person daughter pep 7 years', 'Related Parties'],\n",
       " ['watch person daughter deceased flag', 'Related Parties'],\n",
       " ['watch person daughter deceased date', 'Related Parties'],\n",
       " ['customer daughter transaction count transaction', 'Related Parties'],\n",
       " ['customer daughter transaction total amount', 'Related Parties'],\n",
       " ['customer daughter transaction location', 'Related Parties'],\n",
       " ['match son law name', 'Related Parties'],\n",
       " ['watch person son law location', 'Related Parties'],\n",
       " ['match son law date year birth dob yob', 'Related Parties'],\n",
       " ['watch person son law occupation profile', 'Related Parties'],\n",
       " ['match son law id number nric', 'Related Parties'],\n",
       " ['match son law passport number', 'Related Parties'],\n",
       " ['match son law nationality', 'Related Parties'],\n",
       " ['match son law place birth', 'Related Parties'],\n",
       " ['watch person son law pep 7 years', 'Related Parties'],\n",
       " ['watch person son law deceased flag', 'Related Parties'],\n",
       " ['watch person son law deceased date', 'Related Parties'],\n",
       " ['customer son law transaction count transaction', 'Related Parties'],\n",
       " ['customer son law transaction total amount', 'Related Parties'],\n",
       " ['customer son law transaction location', 'Related Parties'],\n",
       " ['match daughter law name', 'Related Parties'],\n",
       " ['watch person daughter law location', 'Related Parties'],\n",
       " ['match daughter law date year birth dob yob', 'Related Parties'],\n",
       " ['watch person daughter law occupation profile', 'Related Parties'],\n",
       " ['match daughter law id number nric', 'Related Parties'],\n",
       " ['match daughter law passport number', 'Related Parties'],\n",
       " ['match daughter law nationality', 'Related Parties'],\n",
       " ['match daughter law place birth', 'Related Parties'],\n",
       " ['watch person daughter law pep 7 years', 'Related Parties'],\n",
       " ['watch person daughter law deceased flag', 'Related Parties'],\n",
       " ['watch person daughter law deceased date', 'Related Parties'],\n",
       " ['customer daughter law transaction count transaction', 'Related Parties'],\n",
       " ['customer daughter law transaction total amount', 'Related Parties'],\n",
       " ['customer daughter law transaction location', 'Related Parties'],\n",
       " ['match father law name', 'Related Parties'],\n",
       " ['watch person father law location', 'Related Parties'],\n",
       " ['match father law date year birth dob yob', 'Related Parties'],\n",
       " ['watch person father law occupation profile', 'Related Parties'],\n",
       " ['match father law id number nric', 'Related Parties'],\n",
       " ['match father law passport number', 'Related Parties'],\n",
       " ['match father law nationality', 'Related Parties'],\n",
       " ['match father law place birth', 'Related Parties'],\n",
       " ['watch person father law pep 7 years', 'Related Parties'],\n",
       " ['watch person father law deceased flag', 'Related Parties'],\n",
       " ['watch person father law deceased date', 'Related Parties'],\n",
       " ['customer father law transaction count transaction', 'Related Parties'],\n",
       " ['customer father law transaction total amount', 'Related Parties'],\n",
       " ['customer father law transaction location', 'Related Parties'],\n",
       " ['match mother law name', 'Related Parties'],\n",
       " ['watch person mother law location', 'Related Parties'],\n",
       " ['match mother law date year birth dob yob', 'Related Parties'],\n",
       " ['watch person mother law occupation profile', 'Related Parties'],\n",
       " ['match mother law id number nric', 'Related Parties'],\n",
       " ['match mother law passport number', 'Related Parties'],\n",
       " ['match mother law nationality', 'Related Parties'],\n",
       " ['match mother law place birth', 'Related Parties'],\n",
       " ['watch person mother law pep flag', 'Related Parties'],\n",
       " ['watch person mother law pep 7 years', 'Related Parties'],\n",
       " ['watch person mother law deceased flag', 'Related Parties'],\n",
       " ['watch person mother law deceased date', 'Related Parties'],\n",
       " ['customer mother law transaction count transaction', 'Related Parties'],\n",
       " ['customer mother law transaction total amount', 'Related Parties'],\n",
       " ['customer mother law transaction location', 'Related Parties'],\n",
       " ['match sister law name', 'Related Parties'],\n",
       " ['watch person sister law location', 'Related Parties'],\n",
       " ['match sister law date year birth dob yob', 'Related Parties'],\n",
       " ['watch person sister law occupation profile', 'Related Parties'],\n",
       " ['match sister law id number nric', 'Related Parties'],\n",
       " ['match sister law passport number', 'Related Parties'],\n",
       " ['match sister law nationality', 'Related Parties'],\n",
       " ['match sister law place birth', 'Related Parties'],\n",
       " ['watch person sister law pep flag', 'Related Parties'],\n",
       " ['watch person sister law pep 7 years', 'Related Parties'],\n",
       " ['watch person sister law deceased flag', 'Related Parties'],\n",
       " ['watch person sister law deceased date', 'Related Parties'],\n",
       " ['customer sister law transaction count transaction', 'Related Parties'],\n",
       " ['customer sister law transaction total amount', 'Related Parties'],\n",
       " ['customer sister law transaction location', 'Related Parties'],\n",
       " ['match brother law name', 'Related Parties'],\n",
       " ['watch person brother law location', 'Related Parties'],\n",
       " ['match brother law date year birth dob yob', 'Related Parties'],\n",
       " ['watch person brother law occupation profile', 'Related Parties'],\n",
       " ['match brother law id number nric', 'Related Parties'],\n",
       " ['match brother law passport number', 'Related Parties'],\n",
       " ['match brother law nationality', 'Related Parties'],\n",
       " ['match brother law place birth', 'Related Parties'],\n",
       " ['watch person brother law pep flag', 'Related Parties'],\n",
       " ['watch person brother law pep 7 years', 'Related Parties'],\n",
       " ['watch person brother law deceased flag', 'Related Parties'],\n",
       " ['watch person brother law deceased date', 'Related Parties'],\n",
       " ['customer brother law transaction count transaction', 'Related Parties'],\n",
       " ['customer brother law transaction total amount', 'Related Parties'],\n",
       " ['customer brother law transaction location', 'Related Parties'],\n",
       " ['match grandparents name', 'Related Parties'],\n",
       " ['watch person grandparents location', 'Related Parties'],\n",
       " ['match grandparents date year birth dob yob', 'Related Parties'],\n",
       " ['watch person grandparents occupation profile', 'Related Parties'],\n",
       " ['match grandparents id number nric', 'Related Parties'],\n",
       " ['match grandparents passport number', 'Related Parties'],\n",
       " ['match grandparents nationality', 'Related Parties'],\n",
       " ['match grandparents place birth', 'Related Parties'],\n",
       " ['watch person grandparents pep flag', 'Related Parties'],\n",
       " ['watch person grandparents pep 7 years', 'Related Parties'],\n",
       " ['watch person grandparents deceased flag', 'Related Parties'],\n",
       " ['watch person grandparents deceased date', 'Related Parties'],\n",
       " ['customer grandparents law transaction count transaction',\n",
       "  'Related Parties'],\n",
       " ['customer grandparents law transaction total amount', 'Related Parties'],\n",
       " ['customer grandparents law transaction location', 'Related Parties'],\n",
       " ['match grandchildren name', 'Related Parties'],\n",
       " ['watch person grandchildren location', 'Related Parties'],\n",
       " ['match grandchildren date year birth dob yob', 'Related Parties'],\n",
       " ['watch person grandchildren occupation profile', 'Related Parties'],\n",
       " ['match grandchildren id number nric', 'Related Parties'],\n",
       " ['match grandchildren passport number', 'Related Parties'],\n",
       " ['match grandchildren nationality', 'Related Parties'],\n",
       " ['match grandchildren place birth', 'Related Parties'],\n",
       " ['watch person grandchildren pep flag', 'Related Parties'],\n",
       " ['watch person grandchildren pep 7 years', 'Related Parties'],\n",
       " ['watch person grandchildren deceased flag', 'Related Parties'],\n",
       " ['watch person grandchildren deceased date', 'Related Parties'],\n",
       " ['customer grandchildren transaction count transaction', 'Related Parties'],\n",
       " ['customer grandchildren transaction total amount', 'Related Parties'],\n",
       " ['customer grandchildren transaction location', 'Related Parties'],\n",
       " ['match uncle name', 'Related Parties'],\n",
       " ['watch person uncle location', 'Related Parties'],\n",
       " ['match uncle date year birth dob yob', 'Related Parties'],\n",
       " ['watch person uncle occupation profile', 'Related Parties'],\n",
       " ['match uncle id number nric', 'Related Parties'],\n",
       " ['match uncle passport number', 'Related Parties'],\n",
       " ['match uncle nationality', 'Related Parties'],\n",
       " ['match uncle place birth', 'Related Parties'],\n",
       " ['watch person uncle pep flag', 'Related Parties'],\n",
       " ['watch person uncle pep 7 years', 'Related Parties'],\n",
       " ['watch person uncle deceased flag', 'Related Parties'],\n",
       " ['watch person uncle deceased date', 'Related Parties'],\n",
       " ['customer uncle transaction count transaction', 'Related Parties'],\n",
       " ['customer uncle transaction total amount', 'Related Parties'],\n",
       " ['customer uncle transaction location', 'Related Parties'],\n",
       " ['match aunt name', 'Related Parties'],\n",
       " ['watch person aunt location', 'Related Parties'],\n",
       " ['match aunt date year birth dob yob', 'Related Parties'],\n",
       " ['watch person aunt occupation profile', 'Related Parties'],\n",
       " ['match aunt id number nric', 'Related Parties'],\n",
       " ['match aunt passport number', 'Related Parties'],\n",
       " ['match aunt nationality', 'Related Parties'],\n",
       " ['match aunt place birth', 'Related Parties'],\n",
       " ['watch person aunt pep flag', 'Related Parties'],\n",
       " ['watch person aunt occupation profile', 'Related Parties'],\n",
       " ['watch person aunt pep 7 years', 'Related Parties'],\n",
       " ['watch person aunt deceased flag', 'Related Parties'],\n",
       " ['watch person aunt deceased date', 'Related Parties'],\n",
       " ['customer aunt transaction count transaction', 'Related Parties'],\n",
       " ['customer aunt transaction total amount', 'Related Parties'],\n",
       " ['customer aunt transaction location', 'Related Parties'],\n",
       " ['match cousin name', 'Related Parties'],\n",
       " ['watch person cousin location', 'Related Parties'],\n",
       " ['match cousin date year birth dob yob', 'Related Parties'],\n",
       " ['watch person cousin occupation profile', 'Related Parties'],\n",
       " ['match cousin id number nric', 'Related Parties'],\n",
       " ['match cousin passport number', 'Related Parties'],\n",
       " ['match cousin nationality', 'Related Parties'],\n",
       " ['match cousin place birth', 'Related Parties'],\n",
       " ['watch person cousin pep flag', 'Related Parties'],\n",
       " ['watch person cousin occupation profile', 'Related Parties'],\n",
       " ['watch person cousin pep 7 years', 'Related Parties'],\n",
       " ['watch person cousin deceased flag', 'Related Parties'],\n",
       " ['watch person cousin deceased date', 'Related Parties'],\n",
       " ['customer cousin transaction count transaction', 'Related Parties'],\n",
       " ['customer cousin transaction total amount', 'Related Parties'],\n",
       " ['customer cousin transaction location', 'Related Parties'],\n",
       " ['match driver name', 'Related Parties'],\n",
       " ['watch person driver location', 'Related Parties'],\n",
       " ['match driver date year birth dob yob', 'Related Parties'],\n",
       " ['watch person driver occupation profile', 'Related Parties'],\n",
       " ['match driver id number nric', 'Related Parties'],\n",
       " ['match driver passport number', 'Related Parties'],\n",
       " ['match driver nationality', 'Related Parties'],\n",
       " ['match driver place birth', 'Related Parties'],\n",
       " ['watch person driver pep flag', 'Related Parties'],\n",
       " ['watch person driver occupation profile', 'Related Parties'],\n",
       " ['watch person driver pep 7 years', 'Related Parties'],\n",
       " ['watch person driver deceased flag', 'Related Parties'],\n",
       " ['watch person driver deceased date', 'Related Parties'],\n",
       " ['customer driver transaction count transaction', 'Related Parties'],\n",
       " ['customer driver transaction total amount', 'Related Parties'],\n",
       " ['customer driver transaction location', 'Related Parties'],\n",
       " ['match bodyguard name', 'Related Parties'],\n",
       " ['watch person bodyguard location', 'Related Parties'],\n",
       " ['match bodyguard date year birth dob yob', 'Related Parties'],\n",
       " ['watch person bodyguard occupation profile', 'Related Parties'],\n",
       " ['match bodyguard id number nric', 'Related Parties'],\n",
       " ['match bodyguard passport number', 'Related Parties'],\n",
       " ['match bodyguard nationality', 'Related Parties'],\n",
       " ['match bodyguard place birth', 'Related Parties'],\n",
       " ['watch person bodyguard pep flag', 'Related Parties'],\n",
       " ['watch person bodyguard occupation profile', 'Related Parties'],\n",
       " ['watch person bodyguard pep 7 years', 'Related Parties'],\n",
       " ['watch person bodyguard deceased flag', 'Related Parties'],\n",
       " ['watch person bodyguard deceased date', 'Related Parties'],\n",
       " ['customer bodyguard transaction count transaction', 'Related Parties'],\n",
       " ['customer bodyguard transaction total amount', 'Related Parties'],\n",
       " ['customer bodyguard transaction location', 'Related Parties'],\n",
       " ['match secretaries name', 'Related Parties'],\n",
       " ['watch person secretaries location', 'Related Parties'],\n",
       " ['match secretaries date year birth dob yob', 'Related Parties'],\n",
       " ['watch person secretaries occupation profile', 'Related Parties'],\n",
       " ['match secretaries id number nric', 'Related Parties'],\n",
       " ['match secretaries passport number', 'Related Parties'],\n",
       " ['match secretaries nationality', 'Related Parties'],\n",
       " ['match secretaries place birth', 'Related Parties'],\n",
       " ['watch person secretaries pep flag', 'Related Parties'],\n",
       " ['watch person secretaries occupation profile', 'Related Parties'],\n",
       " ['watch person secretaries pep 7 years', 'Related Parties'],\n",
       " ['watch person secretaries deceased flag', 'Related Parties'],\n",
       " ['watch person secretaries deceased date', 'Related Parties'],\n",
       " ['customer secretaries transaction count transaction', 'Related Parties'],\n",
       " ['customer secretaries transaction total amount', 'Related Parties'],\n",
       " ['customer secretaries transaction location', 'Related Parties'],\n",
       " ['match business partner name', 'Related Parties'],\n",
       " ['watch person business partner location', 'Related Parties'],\n",
       " ['match business partner date year birth dob yob', 'Related Parties'],\n",
       " ['watch person business partner occupation profile', 'Related Parties'],\n",
       " ['match business partner id number nric', 'Related Parties'],\n",
       " ['match business partner passport number', 'Related Parties'],\n",
       " ['match business partner nationality', 'Related Parties'],\n",
       " ['match business partner place birth', 'Related Parties'],\n",
       " ['watch person business partner pep flag', 'Related Parties'],\n",
       " ['watch person business partner occupation profile', 'Related Parties'],\n",
       " ['watch person business partner pep 7 years', 'Related Parties'],\n",
       " ['watch person business partner deceased flag', 'Related Parties'],\n",
       " ['watch person business partner deceased date', 'Related Parties'],\n",
       " ['customer business partner transaction count transaction',\n",
       "  'Related Parties'],\n",
       " ['customer business partner transaction total amount', 'Related Parties'],\n",
       " ['customer business partner transaction location', 'Related Parties'],\n",
       " ['match ex husband name', 'Related Parties'],\n",
       " ['watch person ex husband location', 'Related Parties'],\n",
       " ['match ex husband date year birth dob yob', 'Related Parties'],\n",
       " ['watch person ex husband occupation profile', 'Related Parties'],\n",
       " ['match ex husband id number nric', 'Related Parties'],\n",
       " ['match ex husband passport number', 'Related Parties'],\n",
       " ['match ex husband nationality', 'Related Parties'],\n",
       " ['match ex husband place birth', 'Related Parties'],\n",
       " ['watch person ex husband pep flag', 'Related Parties'],\n",
       " ['watch person ex husband occupation profile', 'Related Parties'],\n",
       " ['watch person ex husband pep 7 years', 'Related Parties'],\n",
       " ['watch person ex husband deceased flag', 'Related Parties'],\n",
       " ['watch person ex husband deceased date', 'Related Parties'],\n",
       " ['customer ex husband transaction count transaction', 'Related Parties'],\n",
       " ['customer ex husband transaction total amount', 'Related Parties'],\n",
       " ['customer ex husband transaction location', 'Related Parties'],\n",
       " ['watch person pep flag', 'PEP'],\n",
       " ['watch person spouse pep flag', 'PEP'],\n",
       " ['watch person father pep flag', 'PEP'],\n",
       " ['watch person mother pep flag', 'PEP'],\n",
       " ['watch person son pep flag', 'PEP'],\n",
       " ['watch person daughter pep flag', 'PEP'],\n",
       " ['watch person brother pep flag', 'PEP'],\n",
       " ['watch person sister pep flag', 'PEP'],\n",
       " ['watch person father law pep flag', 'PEP'],\n",
       " ['watch person mother law pep flag', 'PEP'],\n",
       " ['watch person son law pep flag', 'PEP'],\n",
       " ['watch person daughter law pep flag', 'PEP'],\n",
       " ['watch person brother law pep flag', 'PEP'],\n",
       " ['watch person sister law pep flag', 'PEP'],\n",
       " ['watch person holding high position flag', 'PEP'],\n",
       " ['watch person pep date', 'PEP'],\n",
       " ['watch person holding high ranking position date', 'PEP'],\n",
       " ['customer maybank onboarding date', 'UNKOWN/Miscellanoeous'],\n",
       " ['customer cif creation date', 'UNKOWN/Miscellanoeous'],\n",
       " ['customer marital status', 'UNKOWN/Miscellanoeous'],\n",
       " ['customer date marriage', 'UNKOWN/Miscellanoeous'],\n",
       " ['watch person restrained sebi accessing security market flag', 'Securities'],\n",
       " ['watch person fine sebi flag', 'Securities'],\n",
       " ['watch perosn fine sebi & restrained participating security market date',\n",
       "  'Securities'],\n",
       " ['watch person imprisioned detained house arrest trail flag', 'Crime'],\n",
       " ['watch person imprisioned detained house arrest trial location', 'Crime'],\n",
       " ['watch person imprisioned detained house arrest trail date', 'Crime'],\n",
       " ['material crime money laundering cheat allegeged position arms trafficking trafficking narcotics flag',\n",
       "  'Crime'],\n",
       " ['watch person crime committed date', 'Crime'],\n",
       " ['watch person crime committed location', 'Crime'],\n",
       " ['customer account active flag', 'Account & transactions'],\n",
       " ['customer transaction salary flag', 'Account & transactions'],\n",
       " ['customer transaction latest salary date', 'Account & transactions'],\n",
       " ['customer transaction salary amount', 'Account & transactions'],\n",
       " ['customer transaction localized flag',\n",
       "  'Proof of customer location elsewhere/ profile/ present in the bank during the period when the aderse news took place'],\n",
       " ['customer transaction location',\n",
       "  'Proof of customer location elsewhere/ profile/ present in the bank during the period when the aderse news took place'],\n",
       " ['customer transaction date', 'Account & transactions'],\n",
       " ['customer account opening date', 'Account & transactions'],\n",
       " ['customer account inactive flag', 'Account & transactions'],\n",
       " ['customer account inactive date', 'Account & transactions'],\n",
       " ['customer account balance', 'Account & transactions'],\n",
       " ['customer account active date', 'Account & transactions'],\n",
       " ['customer account dormant status', 'Account & transactions'],\n",
       " ['customer last transaction date', 'Account & transactions'],\n",
       " ['customer transaction number transactions', 'Account & transactions'],\n",
       " ['customer transaction amount', 'Account & transactions'],\n",
       " ['customer transaction online offline', 'Account & transactions'],\n",
       " ['customer joint account flag', 'Account & transactions'],\n",
       " ['customer last transaction amount', 'Account & transactions']]"
      ]
     },
     "execution_count": 63,
     "metadata": {},
     "output_type": "execute_result"
    }
   ],
   "source": [
    "categories"
   ]
  },
  {
   "cell_type": "code",
   "execution_count": 64,
   "id": "66eed2e8",
   "metadata": {},
   "outputs": [],
   "source": [
    "for ind,anch in zip(df_samp.index,df_samp[\"Features_present_cosine_actual_anchors\"]):\n",
    "    l=[]\n",
    "    for x in anch:\n",
    "        l.append([(x,i[1])  for i in categories if x in i][0])\n",
    "    df_samp[\"Feat_Categories\"].loc[ind]=l"
   ]
  },
  {
   "cell_type": "code",
   "execution_count": 65,
   "id": "509b2fd2",
   "metadata": {
    "scrolled": true
   },
   "outputs": [
    {
     "data": {
      "text/plain": [
       "0        [(match aunt id number nric, Related Parties),...\n",
       "1        [(name sound similiar, Full Legal Name - Name ...\n",
       "2        [(match aunt id number nric, Related Parties),...\n",
       "3        [(name sound similiar, Full Legal Name - Name ...\n",
       "4        [(match father date year birth dob yob, Relate...\n",
       "                               ...                        \n",
       "9996                                                    []\n",
       "9997                                                    []\n",
       "9998                                                    []\n",
       "9999                                                    []\n",
       "10000                                                   []\n",
       "Name: Feat_Categories, Length: 9878, dtype: object"
      ]
     },
     "execution_count": 65,
     "metadata": {},
     "output_type": "execute_result"
    }
   ],
   "source": [
    "df_samp[\"Feat_Categories\"]"
   ]
  },
  {
   "cell_type": "code",
   "execution_count": 66,
   "id": "52abaf74",
   "metadata": {
    "scrolled": true
   },
   "outputs": [],
   "source": [
    "df_samp[\"Categories\"]=df_samp[\"Feat_Categories\"].apply(lambda x: list(set([i[1] for i in x])))"
   ]
  },
  {
   "cell_type": "code",
   "execution_count": 67,
   "id": "08cb74a8",
   "metadata": {
    "scrolled": true
   },
   "outputs": [
    {
     "data": {
      "text/plain": [
       "0                                           id number nric\n",
       "1                                  full name sound similar\n",
       "2                                           id number nric\n",
       "3                                  full name sound similar\n",
       "4                                           date birth dob\n",
       "                               ...                        \n",
       "9996     profile . watchperson father babar hussain abi...\n",
       "9997     profile occupation . watchperson pep member me...\n",
       "9998     profile occupation . watchperson son pep minis...\n",
       "9999     profile . watchperson member regional house re...\n",
       "10000    profile . watchperson member regional house re...\n",
       "Name: V_COMMENTS_PROCESSED, Length: 9878, dtype: object"
      ]
     },
     "execution_count": 67,
     "metadata": {},
     "output_type": "execute_result"
    }
   ],
   "source": [
    "df_samp[\"V_COMMENTS_PROCESSED\"]\n"
   ]
  },
  {
   "cell_type": "code",
   "execution_count": 68,
   "id": "fe1a722a",
   "metadata": {},
   "outputs": [],
   "source": [
    "related_party_list=['Spouse', 'Mother', 'Father', 'Brother', 'Sister',\n",
    "       'Son', 'Daughter', 'Son in law', 'Daughter in law',\n",
    "       'Father in law', 'Mother in law', 'Sister in law',\n",
    "       'Brother in law', 'Grandparents', 'Grandchildren', 'Uncle', 'Aunt',\n",
    "       'Cousin', 'Driver', 'Bodyguard', 'Secretaries', 'Business',\n",
    "       'Ex Husband']\n",
    "related_party_list=[prt.lower() for prt in related_party_list]"
   ]
  },
  {
   "cell_type": "code",
   "execution_count": 69,
   "id": "cc775a9e",
   "metadata": {},
   "outputs": [],
   "source": [
    "df_samp[\"Rel_flag\"]=df_samp[df_samp[\"Categories\"].apply(lambda x: \"Related Parties\" in x)][\"V_COMMENTS_TOKENS\"].apply(lambda x:sum([1 if tok in x else 0 for tok in related_party_list])>0)"
   ]
  },
  {
   "cell_type": "code",
   "execution_count": 70,
   "id": "af9cdebd",
   "metadata": {},
   "outputs": [
    {
     "data": {
      "text/plain": [
       "0      None\n",
       "2      None\n",
       "4      None\n",
       "6      None\n",
       "7      None\n",
       "       ... \n",
       "988    None\n",
       "990    None\n",
       "993    None\n",
       "997    None\n",
       "999    None\n",
       "Name: Categories, Length: 631, dtype: object"
      ]
     },
     "execution_count": 70,
     "metadata": {},
     "output_type": "execute_result"
    }
   ],
   "source": [
    "df_samp[df_samp[\"Rel_flag\"]==False][\"Categories\"].apply(lambda x: x.remove(\"Related Parties\"))"
   ]
  },
  {
   "cell_type": "code",
   "execution_count": 71,
   "id": "94c98b33",
   "metadata": {},
   "outputs": [
    {
     "data": {
      "text/plain": [
       "0                           [Identification Number - NRIC]\n",
       "1          [Full Legal Name - Name Does Not Sound Similar]\n",
       "2                           [Identification Number - NRIC]\n",
       "3          [Full Legal Name - Name Does Not Sound Similar]\n",
       "4        [Age/ Year of Birth (YOB), Date of Birth (DOB)...\n",
       "                               ...                        \n",
       "9996                                                    []\n",
       "9997                                                    []\n",
       "9998                                                    []\n",
       "9999                                                    []\n",
       "10000                                                   []\n",
       "Name: Categories, Length: 9878, dtype: object"
      ]
     },
     "execution_count": 71,
     "metadata": {},
     "output_type": "execute_result"
    }
   ],
   "source": [
    "df_samp[\"Categories\"]"
   ]
  },
  {
   "cell_type": "code",
   "execution_count": null,
   "id": "cab85381",
   "metadata": {},
   "outputs": [],
   "source": []
  },
  {
   "cell_type": "code",
   "execution_count": null,
   "id": "d54955c1",
   "metadata": {},
   "outputs": [],
   "source": []
  },
  {
   "cell_type": "code",
   "execution_count": 73,
   "id": "cc74d484",
   "metadata": {
    "scrolled": true
   },
   "outputs": [],
   "source": [
    "df_samp[['V_COMMENTS',\"Counts\",'V_COMMENTS_PROCESSED', 'V_COMMENTS_3',\n",
    "        'Features_present_cosine_actual_anchors',\"Feat_Categories\",\"Categories\"]].to_csv(\"Sentbert_output.csv\")"
   ]
  },
  {
   "cell_type": "code",
   "execution_count": null,
   "id": "e079391d",
   "metadata": {
    "id": "e079391d"
   },
   "outputs": [],
   "source": [
    "df[\"V_COMMENTS_3\"]=df[\"V_COMMENTS_3\"].apply(lambda x:[word_tokenize(sent) for sent in x ])"
   ]
  },
  {
   "cell_type": "code",
   "execution_count": null,
   "id": "f94a1ff4",
   "metadata": {
    "id": "f94a1ff4"
   },
   "outputs": [],
   "source": [
    "df[\"V_COMMENTS_3\"]"
   ]
  },
  {
   "cell_type": "code",
   "execution_count": null,
   "id": "0ec13786",
   "metadata": {
    "id": "0ec13786"
   },
   "outputs": [],
   "source": [
    "l1=df[\"V_COMMENTS_3\"].apply(lambda x: [ j for i in x for j in i]).to_list()"
   ]
  },
  {
   "cell_type": "code",
   "execution_count": null,
   "id": "b620c209",
   "metadata": {
    "id": "b620c209"
   },
   "outputs": [],
   "source": [
    "l1.extend(l2)"
   ]
  },
  {
   "cell_type": "code",
   "execution_count": null,
   "id": "386e07d1",
   "metadata": {
    "id": "386e07d1"
   },
   "outputs": [],
   "source": [
    "# l2=[]\n",
    "# for l in df.loc[ind1,\"V_COMMENTS_3\"].head():\n",
    "#     l3=[]\n",
    "#     for i in l:\n",
    "#         if len(i)>50:\n",
    "#               inputs=tokenizer.encode(i,return_tensors='pt', max_length=512, truncation=True)\n",
    "#               output = model.generate(inputs, min_length=15, max_length=len(i))\n",
    "#               summary=tokenizer.decode(output[0])\n",
    "#               l3.append(summary)\n",
    "#         else:\n",
    "#               l3.append(i)\n",
    "#     l2.append(l3)"
   ]
  },
  {
   "cell_type": "code",
   "execution_count": null,
   "id": "31bb9df2",
   "metadata": {
    "id": "31bb9df2"
   },
   "outputs": [],
   "source": [
    "model1= gensim.models.Word2Vec(l1, min_count=1,\n",
    "                                vector_size=50, window=5,sg=0)"
   ]
  },
  {
   "cell_type": "code",
   "execution_count": null,
   "id": "a6fbe112",
   "metadata": {
    "id": "a6fbe112"
   },
   "outputs": [],
   "source": [
    "df[\"Vect\"]=df[\"V_COMMENTS_3\"].apply(lambda x:[np.sum(np.array([model1.wv[i] for i in sent]),axis=0)/(len(sent)) for sent in x])"
   ]
  },
  {
   "cell_type": "code",
   "execution_count": null,
   "id": "1d50cc12",
   "metadata": {
    "id": "1d50cc12"
   },
   "outputs": [],
   "source": [
    "df[\"Vect\"]"
   ]
  },
  {
   "cell_type": "code",
   "execution_count": null,
   "id": "eff8408d",
   "metadata": {
    "id": "eff8408d"
   },
   "outputs": [],
   "source": [
    "df_features[\"Vect 2\"]=df_features[\"Anchor_Tokens\"].apply(lambda x:np.sum(np.array([model1.wv[i] for i in x]),axis=0)/(len(x)))"
   ]
  },
  {
   "cell_type": "code",
   "execution_count": null,
   "id": "58a7085b",
   "metadata": {
    "id": "58a7085b",
    "scrolled": true
   },
   "outputs": [],
   "source": [
    "df_features[[\"Vect 2\",\"Anchor_Tokens\"]]"
   ]
  },
  {
   "cell_type": "code",
   "execution_count": null,
   "id": "2301769d",
   "metadata": {
    "id": "2301769d"
   },
   "outputs": [],
   "source": [
    "df[\"Vect_copy\"]=df[\"Vect\"].apply(lambda x: [ np.zeros((1,50))[0] if np.any(i==np.nan) or np.any(pd.isna(i)) else i for i in x])"
   ]
  },
  {
   "cell_type": "code",
   "execution_count": null,
   "id": "372d6e4a",
   "metadata": {
    "id": "372d6e4a",
    "scrolled": true
   },
   "outputs": [],
   "source": [
    "df[\"Vect_copy\"]"
   ]
  },
  {
   "cell_type": "code",
   "execution_count": null,
   "id": "135ee395",
   "metadata": {
    "id": "135ee395",
    "scrolled": true
   },
   "outputs": [],
   "source": [
    "def f(x):\n",
    "      l=[]\n",
    "      for sent_vec in x:\n",
    "          l.append(sorted([(cosine_similarity([sent_vec],[feat])[0][0],feat_name )for feat,feat_name in zip(df_features[\"Vect 2\"],df_features[\"Anchor_Topic_Tokens\"])],key=lambda x: x[0],reverse=True)[:3] )\n",
    "\n",
    "      return l\n",
    "for i,vecs in zip(df.index,df[\"Vect_copy\"]):\n",
    "\n",
    "    df[\"Features_present\"].loc[i]=f(vecs)\n",
    "# df[df.loc[:,\"Vect\"].apply(lambda x:np.array(x).shape==(9,))][\"Vect\"][24230]\n",
    "# df[\"Vect_copy\"]=df[\"Vect\"].apply(lambda x:[np.zeros((1,50) ) if np.any(pd.isna(i)) else i for i in x  ])"
   ]
  },
  {
   "cell_type": "code",
   "execution_count": null,
   "id": "cd000ab5",
   "metadata": {},
   "outputs": [],
   "source": [
    "df_samp[\"Features_present_cosine\"]=df_samp[\"Features_present_cosine\"].apply(lambda x: [ j for i in x for j in i])"
   ]
  },
  {
   "cell_type": "code",
   "execution_count": null,
   "id": "a04c4735",
   "metadata": {},
   "outputs": [],
   "source": [
    "df_samp[\"Features_present_cosine_top_5\"]=df_samp[\"Features_present_cosine\"].apply(lambda x: sorted(x,key=lambda x:x[0],reverse=True)[:5])"
   ]
  },
  {
   "cell_type": "code",
   "execution_count": null,
   "id": "a7bf39ff",
   "metadata": {},
   "outputs": [],
   "source": [
    "### The end\n",
    "# df_samp[\"Features_present_cosine_top_5\"]=df_samp[\"Features_present_cosine\"].apply(lambda x: x[:5])"
   ]
  },
  {
   "cell_type": "code",
   "execution_count": null,
   "id": "8d93287f",
   "metadata": {},
   "outputs": [],
   "source": [
    "df_samp[\"Features_present_cosine_actual_anchors\"]=df_samp[\"Features_present_cosine_top_5\"].apply(lambda x: [i[1] for i in x]).apply(lambda x: [ \" \".join(i) for i in x])"
   ]
  },
  {
   "cell_type": "code",
   "execution_count": null,
   "id": "8effc225",
   "metadata": {},
   "outputs": [],
   "source": [
    "df_samp[\"Features_present_cosine_actual_anchors\"]=df_samp[\"Features_present_cosine_actual_anchors\"].apply(lambda x: list(set(x)))"
   ]
  },
  {
   "cell_type": "code",
   "execution_count": null,
   "id": "10cdee77",
   "metadata": {},
   "outputs": [],
   "source": [
    "df_samp[\"Feat_Categories\"]=\"\""
   ]
  },
  {
   "cell_type": "code",
   "execution_count": null,
   "id": "e2b6658a",
   "metadata": {},
   "outputs": [],
   "source": [
    "categories=[]\n",
    "for i in df_features[[\"Anchor_2\",\"Categories\"]].values:\n",
    "    categories.append(list(i))"
   ]
  },
  {
   "cell_type": "code",
   "execution_count": null,
   "id": "6a2bd67b",
   "metadata": {
    "scrolled": true
   },
   "outputs": [],
   "source": [
    "categories"
   ]
  },
  {
   "cell_type": "code",
   "execution_count": null,
   "id": "28cc28e0",
   "metadata": {},
   "outputs": [],
   "source": [
    "for ind,anch in zip(df_samp.index,df_samp[\"Features_present_cosine_actual_anchors\"]):\n",
    "    l=[]\n",
    "    for x in anch:\n",
    "        l.append([(x,i[1])  for i in categories if x in i][0])\n",
    "    df_samp[\"Feat_Categories\"].loc[ind]=l"
   ]
  },
  {
   "cell_type": "code",
   "execution_count": null,
   "id": "4d99039e",
   "metadata": {},
   "outputs": [],
   "source": [
    "df_samp[\"Feat_Categories\"]"
   ]
  },
  {
   "cell_type": "code",
   "execution_count": null,
   "id": "05538df2",
   "metadata": {},
   "outputs": [],
   "source": [
    "df_samp[[\"V_COMMENTS\",\"Counts\",\"Match_Mismatch\",\"V_COMMENTS_3\",\"Features_present_cosine_top_5\",\"Features_present_cosine_actual_anchors\",\"Feat_Categories\",\"Categories\"]].to_csv(\"Feature_extraction_nov_Jaccard_sim_4.csv\")"
   ]
  },
  {
   "cell_type": "code",
   "execution_count": null,
   "id": "caacc0a5",
   "metadata": {
    "scrolled": true
   },
   "outputs": [],
   "source": [
    "df_samp[\"Categories\"]=df_samp[\"Feat_Categories\"].apply(lambda x: list(set([i[1] for i in x])))"
   ]
  },
  {
   "cell_type": "code",
   "execution_count": null,
   "id": "be681c59",
   "metadata": {},
   "outputs": [],
   "source": [
    "# df_samp[[\"Categories\",\"Counts\"]].apply(lambda x: [ for i in x],axis=1)"
   ]
  },
  {
   "cell_type": "code",
   "execution_count": null,
   "id": "2f315c9d",
   "metadata": {},
   "outputs": [],
   "source": [
    "# df_samp[\"\"]"
   ]
  },
  {
   "cell_type": "code",
   "execution_count": null,
   "id": "700584d7",
   "metadata": {},
   "outputs": [],
   "source": [
    "df_features[\"Categories\"].unique()\n"
   ]
  },
  {
   "cell_type": "code",
   "execution_count": null,
   "id": "1e90a0e5",
   "metadata": {},
   "outputs": [],
   "source": [
    "df_stats=pd.DataFrame({\"Categories\":df_features[\"Categories\"].unique()[:-1],})"
   ]
  },
  {
   "cell_type": "code",
   "execution_count": null,
   "id": "155a23d2",
   "metadata": {
    "scrolled": true
   },
   "outputs": [],
   "source": [
    "df_stats[\"Counts\"]=\"\""
   ]
  },
  {
   "cell_type": "code",
   "execution_count": null,
   "id": "5fe72cd1",
   "metadata": {},
   "outputs": [],
   "source": [
    "for i,rows in df_stats.iterrows():\n",
    "    df_stats.loc[i,\"Counts\"]=df_samp[df_samp[\"Categories\"].apply(lambda x: rows[\"Categories\"] in x)][\"Counts\"].sum()\n"
   ]
  },
  {
   "cell_type": "code",
   "execution_count": null,
   "id": "171556ee",
   "metadata": {},
   "outputs": [],
   "source": [
    "max=df_samp[\"Counts\"].sum()\n",
    "df_stats[\"Percentage\"]=df_stats[\"Counts\"].apply(lambda x: x/ max)"
   ]
  },
  {
   "cell_type": "code",
   "execution_count": null,
   "id": "f472d408",
   "metadata": {},
   "outputs": [],
   "source": [
    "df_stats.to_csv(\"Categories_stats.csv\")"
   ]
  },
  {
   "cell_type": "markdown",
   "id": "08c792d6-9634-4018-8f7f-c0013dc47069",
   "metadata": {},
   "source": [
    "### Ollama"
   ]
  },
  {
   "cell_type": "code",
   "execution_count": 10,
   "id": "4be2d48d-ff42-4ab2-b214-7047eddf64dd",
   "metadata": {},
   "outputs": [],
   "source": [
    "# ollama embeddings\n",
    "from langchain_community.vectorstores import Chroma\n",
    "from langchain.embeddings import OpenAIEmbeddings\n",
    "from langchain_community.embeddings import OllamaEmbeddings"
   ]
  },
  {
   "cell_type": "code",
   "execution_count": null,
   "id": "a7a68d19-21e1-40ea-8322-6348c7c59641",
   "metadata": {},
   "outputs": [],
   "source": []
  },
  {
   "cell_type": "code",
   "execution_count": 17,
   "id": "b4a883f6-a1db-425f-aa96-fc694364b1a2",
   "metadata": {},
   "outputs": [
    {
     "ename": "SyntaxError",
     "evalue": "invalid syntax (916910490.py, line 2)",
     "output_type": "error",
     "traceback": [
      "\u001b[1;36m  Cell \u001b[1;32mIn[17], line 2\u001b[1;36m\u001b[0m\n\u001b[1;33m    git clone https://github.com/ggerganov/llama.cpp.git\u001b[0m\n\u001b[1;37m        ^\u001b[0m\n\u001b[1;31mSyntaxError\u001b[0m\u001b[1;31m:\u001b[0m invalid syntax\n"
     ]
    }
   ],
   "source": [
    "# Clone llama.cpp repo\n",
    "git clone https://github.com/ggerganov/llama.cpp.git\n",
    "\n",
    "# Enter llama.cpp project dir\n",
    "cd llama.cpp\n",
    "\n",
    "# On Mac, using Metal allows the computation to be executed on the GPU for Apple devices\n",
    "LLAMA_METAL=1 make"
   ]
  },
  {
   "cell_type": "markdown",
   "id": "bec0631d-8d4c-439c-81c6-61f63a963c99",
   "metadata": {},
   "source": [
    "### Ollama Embeddings"
   ]
  },
  {
   "cell_type": "code",
   "execution_count": 68,
   "id": "57356711-e639-4848-8575-bd80c84042c7",
   "metadata": {},
   "outputs": [],
   "source": [
    "import os\n",
    "import langchain\n",
    "from langchain_community.embeddings import OllamaEmbeddings\n",
    "from langchain_community.embeddings import OllamaEmbeddings\n",
    "ollama_emb = OllamaEmbeddings()\n",
    "\n",
    "ollama_emb_2 = OllamaEmbeddings( model=\"llama2\")\n",
    "ollama_emb_3 = OllamaEmbeddings(model=\"llama3\")\n",
    "#from dotenv import load_dotenv\n",
    "#load_dotenv()\n",
    "\n",
    " \n",
    "#api_key=os.getenv(\"OPENAI_KEY\",None)\n",
    "\n",
    "# from langchain.llms import OpenAI\n",
    " \n",
    "# llm = OpenAI(temperature=0.9,openai_api_key='OPENAI_KEY')"
   ]
  },
  {
   "cell_type": "code",
   "execution_count": 11,
   "id": "b6bdd456-d3c2-4868-8960-1a32cf7ae449",
   "metadata": {},
   "outputs": [
    {
     "data": {
      "text/plain": [
       "[-0.10140955448150635,\n",
       " 0.011419410817325115,\n",
       " 0.1745792180299759,\n",
       " 0.1644006073474884,\n",
       " 0.20826418697834015]"
      ]
     },
     "execution_count": 11,
     "metadata": {},
     "output_type": "execute_result"
    }
   ],
   "source": [
    "embeddings = OllamaEmbeddings()\n",
    "text = \"This is a test document.\"\n",
    "query_result = embeddings.embed_query(text)\n",
    "query_result[:5]"
   ]
  },
  {
   "cell_type": "code",
   "execution_count": 30,
   "id": "a4f0e127-9cb3-4653-9674-37b5ab89887c",
   "metadata": {},
   "outputs": [],
   "source": [
    "import torch\n",
    "query_result =[ torch.tensor(embeddings.embed_query(text)) for text in df_features[\"Anchor_2\"]]"
   ]
  },
  {
   "cell_type": "code",
   "execution_count": 54,
   "id": "dabe855c-68f1-44ab-8382-9b9a45121142",
   "metadata": {},
   "outputs": [],
   "source": [
    "df_features[\"Feat_vect\"]=query_result"
   ]
  },
  {
   "cell_type": "code",
   "execution_count": 50,
   "id": "40711c38-a42f-4088-9dd0-92a33ad6d799",
   "metadata": {},
   "outputs": [],
   "source": [
    "df_samp=df.loc[:100]"
   ]
  },
  {
   "cell_type": "code",
   "execution_count": 53,
   "id": "3e25794b-0e47-49cc-89eb-4772f2b191ef",
   "metadata": {},
   "outputs": [],
   "source": [
    "df_samp[\"Comm_vec_ollama\"]=df_samp[\"V_COMMENTS_3\"].apply(lambda x: [torch.tensor(embeddings.embed_query(sent)) for sent in x])"
   ]
  },
  {
   "cell_type": "code",
   "execution_count": null,
   "id": "29909177-300d-4f7d-b221-dbe9bef0bc44",
   "metadata": {},
   "outputs": [],
   "source": []
  },
  {
   "cell_type": "code",
   "execution_count": 61,
   "id": "bcbbdce2-757a-4aa5-a609-caf025b74b15",
   "metadata": {},
   "outputs": [],
   "source": [
    "df_samp[\"Features_present_cosine_ollama\"]=\"\"\n",
    "def f(x,y):\n",
    "      l=[]\n",
    "      for sent_vec,sent in zip(x,y):\n",
    "          l.append(sorted([[util.pytorch_cos_sim( sent_vec,feat).item(),feat_name, sent] for feat,feat_name in zip(df_features[\"Feat_vect\"],df_features[\"Anchor_2\"]) if util.pytorch_cos_sim( sent_vec,feat).item() >0.5 ],key=lambda x: x[0],reverse=True) )\n",
    "\n",
    "      return l\n",
    "for i,vecs,comm in zip(df_samp.index[:100],df_samp[\"Comm_vec_ollama\"].loc[:99],df_samp[\"V_COMMENTS_3\"].loc[:99]):\n",
    "\n",
    "    df_samp[\"Features_present_cosine_ollama\"].loc[i]=f(vecs,comm)\n",
    "# df_samp[df_samp.loc[:,\"Vect\"].apply(lambda x:np.array(x).shape==(9,))][\"Vect\"][24230]\n",
    "# df_samp[\"Vect_copy\"]=df_samp[\"Vect\"].apply(lambda x:[np.zeros((1,50) ) if np.any(pd.isna(i)) else i for i in x  ])"
   ]
  },
  {
   "cell_type": "code",
   "execution_count": null,
   "id": "7e1677ed-c2c0-4890-acf9-9d47471d2c1f",
   "metadata": {},
   "outputs": [],
   "source": []
  },
  {
   "cell_type": "code",
   "execution_count": 62,
   "id": "030a6290-24f2-4e12-810b-4f1e7c06abb0",
   "metadata": {
    "scrolled": true
   },
   "outputs": [],
   "source": [
    "df_samp[\"Features_present_cosine_ollama\"]=df_samp[\"Features_present_cosine_ollama\"].apply(lambda x: [i for i in x if i!=[]])"
   ]
  },
  {
   "cell_type": "code",
   "execution_count": null,
   "id": "4c8d2178-cc89-487a-96f3-c73e86acac0e",
   "metadata": {},
   "outputs": [],
   "source": [
    "# df_samp[\"Features_present_cosine_2\"]=df_samp[\"Features_present_cosine\"].apply(lambda x: x[0] if len(x)>1 else x)"
   ]
  },
  {
   "cell_type": "code",
   "execution_count": 64,
   "id": "817db8b4-3142-457d-911e-7465a3b6a99b",
   "metadata": {
    "scrolled": true
   },
   "outputs": [],
   "source": [
    "\n",
    "df_samp[\"Features_present_cosine_ollama\"]=df_samp[\"Features_present_cosine_ollama\"].apply(lambda x: [ j for i in x for j in i])"
   ]
  },
  {
   "cell_type": "code",
   "execution_count": 57,
   "id": "afd24515-d48b-4cc9-8569-75bbb22af95c",
   "metadata": {},
   "outputs": [],
   "source": [
    "# df_samp[\"Features_present_cosine_top_5\"]"
   ]
  },
  {
   "cell_type": "code",
   "execution_count": 65,
   "id": "fa7da3d4-3adf-46fa-8280-7497b58ddf41",
   "metadata": {},
   "outputs": [],
   "source": [
    "df_samp[\"Features_present_cosine_top_ollama\"]=df_samp[\"Features_present_cosine_ollama\"].apply(lambda x: sorted(x,key=lambda x:x[0],reverse=True))"
   ]
  },
  {
   "cell_type": "code",
   "execution_count": 66,
   "id": "49bc82ac-3ab3-4d93-9e39-97784aefe4a2",
   "metadata": {},
   "outputs": [],
   "source": [
    "df_samp[\"Features_present_cosine_actual_anchors_ollama\"]=df_samp[\"Features_present_cosine_top_ollama\"].apply(lambda x: [i[1] for i in x])"
   ]
  },
  {
   "cell_type": "code",
   "execution_count": 67,
   "id": "3ce41c4f-cf1d-4f7b-9518-d67aa9f65880",
   "metadata": {},
   "outputs": [
    {
     "data": {
      "text/html": [
       "<div>\n",
       "<style scoped>\n",
       "    .dataframe tbody tr th:only-of-type {\n",
       "        vertical-align: middle;\n",
       "    }\n",
       "\n",
       "    .dataframe tbody tr th {\n",
       "        vertical-align: top;\n",
       "    }\n",
       "\n",
       "    .dataframe thead th {\n",
       "        text-align: right;\n",
       "    }\n",
       "</style>\n",
       "<table border=\"1\" class=\"dataframe\">\n",
       "  <thead>\n",
       "    <tr style=\"text-align: right;\">\n",
       "      <th></th>\n",
       "      <th>V_COMMENTS</th>\n",
       "      <th>N_PARTY_WATCHLIST_MATCH_ID</th>\n",
       "      <th>Counts</th>\n",
       "      <th>Match_Mismatch</th>\n",
       "      <th>V_COMMENTS_PROCESSED</th>\n",
       "      <th>V_COMMENTS_TOKENS</th>\n",
       "      <th>V_COMMENTS_3</th>\n",
       "      <th>Comm_vec_ollama</th>\n",
       "      <th>Features_present_cosine_ollama</th>\n",
       "      <th>Features_present_cosine_top_ollama</th>\n",
       "      <th>Features_present_cosine_actual_anchors_ollama</th>\n",
       "    </tr>\n",
       "  </thead>\n",
       "  <tbody>\n",
       "    <tr>\n",
       "      <th>0</th>\n",
       "      <td>Mismatch ID number_NRIC</td>\n",
       "      <td>[6147381, 6003260, 5488573, 6013209, 6007897, ...</td>\n",
       "      <td>20859</td>\n",
       "      <td>[Mismatch]</td>\n",
       "      <td>id number nric</td>\n",
       "      <td>[id, number, nric]</td>\n",
       "      <td>[id number nric]</td>\n",
       "      <td>[[tensor(-2.7573), tensor(-0.2343), tensor(-2....</td>\n",
       "      <td>[[0.9999998807907104, id number nric, id numbe...</td>\n",
       "      <td>[[0.9999998807907104, id number nric, id numbe...</td>\n",
       "      <td>[id number nric, match   uncle id number nric,...</td>\n",
       "    </tr>\n",
       "    <tr>\n",
       "      <th>1</th>\n",
       "      <td>Mismatch Full Legal Name – Name Does Not Sound...</td>\n",
       "      <td>[6081737, 4832938, 7491187, 6227658, 5401157, ...</td>\n",
       "      <td>13039</td>\n",
       "      <td>[Mismatch]</td>\n",
       "      <td>full name sound similar</td>\n",
       "      <td>[full, name, sound, similar]</td>\n",
       "      <td>[full name sound similar]</td>\n",
       "      <td>[[tensor(-0.3221), tensor(-1.1757), tensor(2.6...</td>\n",
       "      <td>[[0.6600239872932434, match  son in law name, ...</td>\n",
       "      <td>[[0.6600239872932434, match  son in law name, ...</td>\n",
       "      <td>[match  son in law name, match  sister name, m...</td>\n",
       "    </tr>\n",
       "    <tr>\n",
       "      <th>2</th>\n",
       "      <td>Mismatch ID number_NRIC\\n</td>\n",
       "      <td>[5129297, 5086069, 6260885, 5277278, 4821963, ...</td>\n",
       "      <td>8666</td>\n",
       "      <td>[Mismatch]</td>\n",
       "      <td>id number nric</td>\n",
       "      <td>[id, number, nric]</td>\n",
       "      <td>[id number nric]</td>\n",
       "      <td>[[tensor(-2.7573), tensor(-0.2343), tensor(-2....</td>\n",
       "      <td>[[0.9999998807907104, id number nric, id numbe...</td>\n",
       "      <td>[[0.9999998807907104, id number nric, id numbe...</td>\n",
       "      <td>[id number nric, match   uncle id number nric,...</td>\n",
       "    </tr>\n",
       "    <tr>\n",
       "      <th>3</th>\n",
       "      <td>Mismatch Full Legal Name_Name Does Not Sound S...</td>\n",
       "      <td>[6190699, 5155337, 6121364, 5155334, 5155339, ...</td>\n",
       "      <td>6680</td>\n",
       "      <td>[Mismatch]</td>\n",
       "      <td>full name sound similar</td>\n",
       "      <td>[full, name, sound, similar]</td>\n",
       "      <td>[full name sound similar]</td>\n",
       "      <td>[[tensor(-0.3221), tensor(-1.1757), tensor(2.6...</td>\n",
       "      <td>[[0.6600239872932434, match  son in law name, ...</td>\n",
       "      <td>[[0.6600239872932434, match  son in law name, ...</td>\n",
       "      <td>[match  son in law name, match  sister name, m...</td>\n",
       "    </tr>\n",
       "    <tr>\n",
       "      <th>4</th>\n",
       "      <td>Mismatch Date of Birth (DOB)</td>\n",
       "      <td>[4801383, 4887727, 5254984, 4806610, 6031120, ...</td>\n",
       "      <td>6288</td>\n",
       "      <td>[Mismatch]</td>\n",
       "      <td>date birth dob</td>\n",
       "      <td>[date, birth, dob]</td>\n",
       "      <td>[date birth dob]</td>\n",
       "      <td>[[tensor(1.1900), tensor(-0.6665), tensor(0.68...</td>\n",
       "      <td>[[0.7642505764961243, customer cif creation da...</td>\n",
       "      <td>[[0.7642505764961243, customer cif creation da...</td>\n",
       "      <td>[customer cif creation date, watch person driv...</td>\n",
       "    </tr>\n",
       "    <tr>\n",
       "      <th>...</th>\n",
       "      <td>...</td>\n",
       "      <td>...</td>\n",
       "      <td>...</td>\n",
       "      <td>...</td>\n",
       "      <td>...</td>\n",
       "      <td>...</td>\n",
       "      <td>...</td>\n",
       "      <td>...</td>\n",
       "      <td>...</td>\n",
       "      <td>...</td>\n",
       "      <td>...</td>\n",
       "    </tr>\n",
       "    <tr>\n",
       "      <th>96</th>\n",
       "      <td>Mismatch Year of Birth (YOB) Watchperson YOB a...</td>\n",
       "      <td>[7703770, 7701952, 7702281, 7704132, 7702672, ...</td>\n",
       "      <td>291</td>\n",
       "      <td>[Mismatch]</td>\n",
       "      <td>year birth yob watchperson yob per worldcheck ...</td>\n",
       "      <td>[year, birth, yob, watchperson, yob, per, worl...</td>\n",
       "      <td>[year birth yob watchperson yob per worldcheck...</td>\n",
       "      <td>[[tensor(-0.8344), tensor(0.2042), tensor(-0.1...</td>\n",
       "      <td>[[0.7229762077331543, customer son in law tran...</td>\n",
       "      <td>[[0.7229762077331543, customer son in law tran...</td>\n",
       "      <td>[customer son in law transaction location, cus...</td>\n",
       "    </tr>\n",
       "    <tr>\n",
       "      <th>97</th>\n",
       "      <td>False Hit-Mismatch ID number _ NRIC</td>\n",
       "      <td>[4811907, 5226796, 6065103, 6285085, 5161323, ...</td>\n",
       "      <td>277</td>\n",
       "      <td>[False Hit, Mismatch]</td>\n",
       "      <td>id number nric</td>\n",
       "      <td>[id, number, nric]</td>\n",
       "      <td>[id number nric]</td>\n",
       "      <td>[[tensor(-2.7573), tensor(-0.2343), tensor(-2....</td>\n",
       "      <td>[[0.9999998807907104, id number nric, id numbe...</td>\n",
       "      <td>[[0.9999998807907104, id number nric, id numbe...</td>\n",
       "      <td>[id number nric, match   uncle id number nric,...</td>\n",
       "    </tr>\n",
       "    <tr>\n",
       "      <th>98</th>\n",
       "      <td>Mismatch Biography/Occupation – Customer worke...</td>\n",
       "      <td>[7500615, 7500616, 7511543, 7500617, 7511544, ...</td>\n",
       "      <td>268</td>\n",
       "      <td>[Mismatch]</td>\n",
       "      <td>biography occupation customer worked mining co...</td>\n",
       "      <td>[biography, occupation, customer, worked, mini...</td>\n",
       "      <td>[biography occupation customer worked mining c...</td>\n",
       "      <td>[[tensor(1.3293), tensor(-0.3780), tensor(3.52...</td>\n",
       "      <td>[[0.7316364645957947, watch person job work lo...</td>\n",
       "      <td>[[0.748814582824707, watch person sister pep m...</td>\n",
       "      <td>[watch person sister pep more than 7 years , w...</td>\n",
       "    </tr>\n",
       "    <tr>\n",
       "      <th>99</th>\n",
       "      <td>Mismatch ID number_NRIC.\\n</td>\n",
       "      <td>[6043578, 4712638, 6043766, 6044266, 6043684, ...</td>\n",
       "      <td>258</td>\n",
       "      <td>[Mismatch]</td>\n",
       "      <td>id number nric .</td>\n",
       "      <td>[id, number, nric, .]</td>\n",
       "      <td>[id number nric ]</td>\n",
       "      <td>[[tensor(-1.9529), tensor(-0.5195), tensor(-1....</td>\n",
       "      <td>[[0.7575944662094116, match  son in law passpo...</td>\n",
       "      <td>[[0.7575944662094116, match  son in law passpo...</td>\n",
       "      <td>[match  son in law passport number , match  un...</td>\n",
       "    </tr>\n",
       "    <tr>\n",
       "      <th>100</th>\n",
       "      <td>Mismatch Full Legal Name_ Name does not sounds...</td>\n",
       "      <td>[6078857, 6083415, 6079904, 6139488, 6205527, ...</td>\n",
       "      <td>254</td>\n",
       "      <td>[Mismatch]</td>\n",
       "      <td>full name name sounds similar .</td>\n",
       "      <td>[full, name, name, sounds, similar, .]</td>\n",
       "      <td>[full name name sounds similar ]</td>\n",
       "      <td>[[tensor(-2.8530), tensor(-0.1681), tensor(1.8...</td>\n",
       "      <td>[]</td>\n",
       "      <td>[]</td>\n",
       "      <td>[]</td>\n",
       "    </tr>\n",
       "  </tbody>\n",
       "</table>\n",
       "<p>99 rows × 11 columns</p>\n",
       "</div>"
      ],
      "text/plain": [
       "                                            V_COMMENTS  \\\n",
       "0                              Mismatch ID number_NRIC   \n",
       "1    Mismatch Full Legal Name – Name Does Not Sound...   \n",
       "2                            Mismatch ID number_NRIC\\n   \n",
       "3    Mismatch Full Legal Name_Name Does Not Sound S...   \n",
       "4                         Mismatch Date of Birth (DOB)   \n",
       "..                                                 ...   \n",
       "96   Mismatch Year of Birth (YOB) Watchperson YOB a...   \n",
       "97                False Hit-Mismatch ID number _ NRIC    \n",
       "98   Mismatch Biography/Occupation – Customer worke...   \n",
       "99                          Mismatch ID number_NRIC.\\n   \n",
       "100  Mismatch Full Legal Name_ Name does not sounds...   \n",
       "\n",
       "                            N_PARTY_WATCHLIST_MATCH_ID  Counts  \\\n",
       "0    [6147381, 6003260, 5488573, 6013209, 6007897, ...   20859   \n",
       "1    [6081737, 4832938, 7491187, 6227658, 5401157, ...   13039   \n",
       "2    [5129297, 5086069, 6260885, 5277278, 4821963, ...    8666   \n",
       "3    [6190699, 5155337, 6121364, 5155334, 5155339, ...    6680   \n",
       "4    [4801383, 4887727, 5254984, 4806610, 6031120, ...    6288   \n",
       "..                                                 ...     ...   \n",
       "96   [7703770, 7701952, 7702281, 7704132, 7702672, ...     291   \n",
       "97   [4811907, 5226796, 6065103, 6285085, 5161323, ...     277   \n",
       "98   [7500615, 7500616, 7511543, 7500617, 7511544, ...     268   \n",
       "99   [6043578, 4712638, 6043766, 6044266, 6043684, ...     258   \n",
       "100  [6078857, 6083415, 6079904, 6139488, 6205527, ...     254   \n",
       "\n",
       "            Match_Mismatch                               V_COMMENTS_PROCESSED  \\\n",
       "0               [Mismatch]                                     id number nric   \n",
       "1               [Mismatch]                            full name sound similar   \n",
       "2               [Mismatch]                                     id number nric   \n",
       "3               [Mismatch]                            full name sound similar   \n",
       "4               [Mismatch]                                     date birth dob   \n",
       "..                     ...                                                ...   \n",
       "96              [Mismatch]  year birth yob watchperson yob per worldcheck ...   \n",
       "97   [False Hit, Mismatch]                                     id number nric   \n",
       "98              [Mismatch]  biography occupation customer worked mining co...   \n",
       "99              [Mismatch]                                   id number nric .   \n",
       "100             [Mismatch]                    full name name sounds similar .   \n",
       "\n",
       "                                     V_COMMENTS_TOKENS  \\\n",
       "0                                   [id, number, nric]   \n",
       "1                         [full, name, sound, similar]   \n",
       "2                                   [id, number, nric]   \n",
       "3                         [full, name, sound, similar]   \n",
       "4                                   [date, birth, dob]   \n",
       "..                                                 ...   \n",
       "96   [year, birth, yob, watchperson, yob, per, worl...   \n",
       "97                                  [id, number, nric]   \n",
       "98   [biography, occupation, customer, worked, mini...   \n",
       "99                               [id, number, nric, .]   \n",
       "100             [full, name, name, sounds, similar, .]   \n",
       "\n",
       "                                          V_COMMENTS_3  \\\n",
       "0                                     [id number nric]   \n",
       "1                            [full name sound similar]   \n",
       "2                                     [id number nric]   \n",
       "3                            [full name sound similar]   \n",
       "4                                     [date birth dob]   \n",
       "..                                                 ...   \n",
       "96   [year birth yob watchperson yob per worldcheck...   \n",
       "97                                    [id number nric]   \n",
       "98   [biography occupation customer worked mining c...   \n",
       "99                                   [id number nric ]   \n",
       "100                   [full name name sounds similar ]   \n",
       "\n",
       "                                       Comm_vec_ollama  \\\n",
       "0    [[tensor(-2.7573), tensor(-0.2343), tensor(-2....   \n",
       "1    [[tensor(-0.3221), tensor(-1.1757), tensor(2.6...   \n",
       "2    [[tensor(-2.7573), tensor(-0.2343), tensor(-2....   \n",
       "3    [[tensor(-0.3221), tensor(-1.1757), tensor(2.6...   \n",
       "4    [[tensor(1.1900), tensor(-0.6665), tensor(0.68...   \n",
       "..                                                 ...   \n",
       "96   [[tensor(-0.8344), tensor(0.2042), tensor(-0.1...   \n",
       "97   [[tensor(-2.7573), tensor(-0.2343), tensor(-2....   \n",
       "98   [[tensor(1.3293), tensor(-0.3780), tensor(3.52...   \n",
       "99   [[tensor(-1.9529), tensor(-0.5195), tensor(-1....   \n",
       "100  [[tensor(-2.8530), tensor(-0.1681), tensor(1.8...   \n",
       "\n",
       "                        Features_present_cosine_ollama  \\\n",
       "0    [[0.9999998807907104, id number nric, id numbe...   \n",
       "1    [[0.6600239872932434, match  son in law name, ...   \n",
       "2    [[0.9999998807907104, id number nric, id numbe...   \n",
       "3    [[0.6600239872932434, match  son in law name, ...   \n",
       "4    [[0.7642505764961243, customer cif creation da...   \n",
       "..                                                 ...   \n",
       "96   [[0.7229762077331543, customer son in law tran...   \n",
       "97   [[0.9999998807907104, id number nric, id numbe...   \n",
       "98   [[0.7316364645957947, watch person job work lo...   \n",
       "99   [[0.7575944662094116, match  son in law passpo...   \n",
       "100                                                 []   \n",
       "\n",
       "                    Features_present_cosine_top_ollama  \\\n",
       "0    [[0.9999998807907104, id number nric, id numbe...   \n",
       "1    [[0.6600239872932434, match  son in law name, ...   \n",
       "2    [[0.9999998807907104, id number nric, id numbe...   \n",
       "3    [[0.6600239872932434, match  son in law name, ...   \n",
       "4    [[0.7642505764961243, customer cif creation da...   \n",
       "..                                                 ...   \n",
       "96   [[0.7229762077331543, customer son in law tran...   \n",
       "97   [[0.9999998807907104, id number nric, id numbe...   \n",
       "98   [[0.748814582824707, watch person sister pep m...   \n",
       "99   [[0.7575944662094116, match  son in law passpo...   \n",
       "100                                                 []   \n",
       "\n",
       "         Features_present_cosine_actual_anchors_ollama  \n",
       "0    [id number nric, match   uncle id number nric,...  \n",
       "1    [match  son in law name, match  sister name, m...  \n",
       "2    [id number nric, match   uncle id number nric,...  \n",
       "3    [match  son in law name, match  sister name, m...  \n",
       "4    [customer cif creation date, watch person driv...  \n",
       "..                                                 ...  \n",
       "96   [customer son in law transaction location, cus...  \n",
       "97   [id number nric, match   uncle id number nric,...  \n",
       "98   [watch person sister pep more than 7 years , w...  \n",
       "99   [match  son in law passport number , match  un...  \n",
       "100                                                 []  \n",
       "\n",
       "[99 rows x 11 columns]"
      ]
     },
     "execution_count": 67,
     "metadata": {},
     "output_type": "execute_result"
    }
   ],
   "source": [
    "df_samp"
   ]
  },
  {
   "cell_type": "code",
   "execution_count": null,
   "id": "3274d007-c904-43cf-b595-a60f7b9e81bf",
   "metadata": {},
   "outputs": [],
   "source": []
  },
  {
   "cell_type": "code",
   "execution_count": 69,
   "id": "ab76448c-63cc-4958-8ada-61cf9009451e",
   "metadata": {},
   "outputs": [],
   "source": [
    "df_samp[\"Feat_Categories\"]=\"\""
   ]
  },
  {
   "cell_type": "code",
   "execution_count": 70,
   "id": "736bc74c-e340-4e35-b490-506868ce5e06",
   "metadata": {},
   "outputs": [],
   "source": [
    "categories=[]\n",
    "for i in df_features[[\"Anchor_2\",\"Categories\"]].values:\n",
    "    categories.append(list(i))"
   ]
  },
  {
   "cell_type": "code",
   "execution_count": 71,
   "id": "3b6a7fa3-de79-44b5-874d-fbb33c992956",
   "metadata": {
    "scrolled": true
   },
   "outputs": [
    {
     "data": {
      "text/plain": [
       "[['word count difference', 'Full Legal Name - Word Count'],\n",
       " ['name structure difference', 'Full Legal Name - Name Structure'],\n",
       " ['name does not sound similiar',\n",
       "  'Full Legal Name - Name Does Not Sound Similar'],\n",
       " ['native name charachter difference', 'Full Legal Name - Native Name'],\n",
       " ['date of birth  dob ', 'Date of Birth (DOB)'],\n",
       " ['year of birth  yob   age and age of date', 'Age/ Year of Birth (YOB)'],\n",
       " ['match  place of birth', 'Place of Birth'],\n",
       " ['id number nric', 'Identification Number - NRIC'],\n",
       " ['id citizenship number', 'Identification Number - Citizenship Number'],\n",
       " ['watch person deceased date ', 'Deceased Status'],\n",
       " ['watch person age as of deceased', 'Deceased Status'],\n",
       " ['watch person deceased flag', 'Deceased Status'],\n",
       " ['customer deceased flag', 'Deceased Status'],\n",
       " ['customer deceased date', 'Deceased Status'],\n",
       " ['gender', 'Gender'],\n",
       " ['father name', \"Father's Name \"],\n",
       " ['customer occupation biography profile', 'Biography/ Occupation'],\n",
       " ['customer occupation biography profile', 'Biography/ Occupation'],\n",
       " ['watch person occupation biography profile', 'Biography/ Occupation'],\n",
       " ['watch person job work location ', 'Biography/ Occupation'],\n",
       " ['watch person job work date', 'Biography/ Occupation'],\n",
       " ['customer job work location', 'Biography/ Occupation'],\n",
       " ['customer job work date', 'Biography/ Occupation'],\n",
       " ['watch person spouse occupation profile', 'Biography/ Occupation'],\n",
       " ['watch person mother occupation profile', 'Biography/ Occupation'],\n",
       " ['watch person father occupation profile', 'Biography/ Occupation'],\n",
       " ['watch person son occupation profile', 'Biography/ Occupation'],\n",
       " ['watch person daughter occupation profile', 'Biography/ Occupation'],\n",
       " ['passport id number', 'Identification Number - Passport Number'],\n",
       " ['spouse name', 'Name'],\n",
       " ['mother name', 'Name'],\n",
       " ['customer date of birth age and age as of date', 'DOB'],\n",
       " ['watch person father date of birth age & age as of date', 'DOB'],\n",
       " ['watch person mother date of birth age & age as of date', 'DOB'],\n",
       " ['watch person daughter date of birth age & age as of date', 'DOB'],\n",
       " ['watch person son date of birth age & age as of date', 'DOB'],\n",
       " ['watch person daughter in law date of birth age & age as of date', 'DOB'],\n",
       " ['watch person son in law date of birth age & age as of date', 'DOB'],\n",
       " ['date of birth  dob  does not fall within watch person dob range ', 'DOB'],\n",
       " ['old ic number', 'ID'],\n",
       " ['match  indentification number', 'ID'],\n",
       " ['id tax identification number', 'ID'],\n",
       " ['watch person spouse location', 'Related Parties'],\n",
       " ['match   spouse date year of birth   dob yob  ', 'Related Parties'],\n",
       " ['match   spouse id number nric', 'Related Parties'],\n",
       " ['match  spouse passport number ', 'Related Parties'],\n",
       " ['match  spouse nationality', 'Related Parties'],\n",
       " ['match  spouse place of birth', 'Related Parties'],\n",
       " ['watch person spouse pep more than 7 years ', 'Related Parties'],\n",
       " ['watch person spouse deceased flag', 'Related Parties'],\n",
       " ['watch person spouse deceased date', 'Related Parties'],\n",
       " ['customer spouse transaction count of transaction', 'Related Parties'],\n",
       " ['customer spouse transaction total amount', 'Related Parties'],\n",
       " ['customer spouse transaction location', 'Related Parties'],\n",
       " ['watch person mother location', 'Related Parties'],\n",
       " ['match   mother date year of birth   dob yob  ', 'Related Parties'],\n",
       " ['match   mother id number nric', 'Related Parties'],\n",
       " ['match  mother passport number ', 'Related Parties'],\n",
       " ['match  mother nationality', 'Related Parties'],\n",
       " ['match  mother place of birth', 'Related Parties'],\n",
       " ['watch person mother pep more than 7 years ', 'Related Parties'],\n",
       " ['watch person mother deceased flag', 'Related Parties'],\n",
       " ['watch person mother deceased date', 'Related Parties'],\n",
       " ['customer mother transaction count of transaction', 'Related Parties'],\n",
       " ['customer mother transaction total amount', 'Related Parties'],\n",
       " ['customer mother transaction location', 'Related Parties'],\n",
       " ['match  father name', 'Related Parties'],\n",
       " ['watch person father location', 'Related Parties'],\n",
       " ['match   father date year of birth   dob yob  ', 'Related Parties'],\n",
       " ['match   father id number nric', 'Related Parties'],\n",
       " ['match  father passport number ', 'Related Parties'],\n",
       " ['match  father nationality', 'Related Parties'],\n",
       " ['match  father place of birth', 'Related Parties'],\n",
       " ['watch person father pep more than 7 years ', 'Related Parties'],\n",
       " ['watch person father deceased flag', 'Related Parties'],\n",
       " ['watch person father deceased date', 'Related Parties'],\n",
       " ['customer father transaction count of transaction', 'Related Parties'],\n",
       " ['customer father transaction total amount', 'Related Parties'],\n",
       " ['customer father transaction location', 'Related Parties'],\n",
       " ['match  brother name', 'Related Parties'],\n",
       " ['watch person brother location', 'Related Parties'],\n",
       " ['match   brother date year of birth   dob yob  ', 'Related Parties'],\n",
       " ['watch person brother occupation profile', 'Related Parties'],\n",
       " ['match   brother id number nric', 'Related Parties'],\n",
       " ['match  brother passport number ', 'Related Parties'],\n",
       " ['match  brother nationality', 'Related Parties'],\n",
       " ['match  brother place of birth', 'Related Parties'],\n",
       " ['watch person brother pep more than 7 years ', 'Related Parties'],\n",
       " ['watch person brother deceased flag', 'Related Parties'],\n",
       " ['watch person brother deceased date', 'Related Parties'],\n",
       " ['customer brother transaction count of transaction', 'Related Parties'],\n",
       " ['customer brother transaction total amount', 'Related Parties'],\n",
       " ['customer brother transaction location', 'Related Parties'],\n",
       " ['match  sister name', 'Related Parties'],\n",
       " ['watch person sister location', 'Related Parties'],\n",
       " ['match   sister date year of birth   dob yob  ', 'Related Parties'],\n",
       " ['watch person sister occupation profile', 'Related Parties'],\n",
       " ['match   sister id number nric', 'Related Parties'],\n",
       " ['match  sister passport number ', 'Related Parties'],\n",
       " ['match  sister nationality', 'Related Parties'],\n",
       " ['match  sister place of birth', 'Related Parties'],\n",
       " ['watch person sister pep more than 7 years ', 'Related Parties'],\n",
       " ['watch person sister deceased flag', 'Related Parties'],\n",
       " ['watch person sister deceased date', 'Related Parties'],\n",
       " ['customer sister transaction count of transaction', 'Related Parties'],\n",
       " ['customer sister transaction total amount', 'Related Parties'],\n",
       " ['customer sister transaction location', 'Related Parties'],\n",
       " ['match  son name', 'Related Parties'],\n",
       " ['watch person son location', 'Related Parties'],\n",
       " ['match   son date year of birth   dob yob  ', 'Related Parties'],\n",
       " ['watch person son occupation profile', 'Related Parties'],\n",
       " ['match   son id number nric', 'Related Parties'],\n",
       " ['match  son passport number ', 'Related Parties'],\n",
       " ['match  son nationality', 'Related Parties'],\n",
       " ['match  son place of birth', 'Related Parties'],\n",
       " ['watch person son pep more than 7 years ', 'Related Parties'],\n",
       " ['watch person son deceased flag', 'Related Parties'],\n",
       " ['watch person son deceased date', 'Related Parties'],\n",
       " ['customer son transaction count of transaction', 'Related Parties'],\n",
       " ['customer son transaction total amount', 'Related Parties'],\n",
       " ['customer son transaction location', 'Related Parties'],\n",
       " ['match  daughter name', 'Related Parties'],\n",
       " ['watch person daughter location', 'Related Parties'],\n",
       " ['match   daughter date year of birth   dob yob  ', 'Related Parties'],\n",
       " ['watch person daughter occupation profile', 'Related Parties'],\n",
       " ['match   daughter id number nric', 'Related Parties'],\n",
       " ['match  daughter passport number ', 'Related Parties'],\n",
       " ['match  daughter nationality', 'Related Parties'],\n",
       " ['match  daughter place of birth', 'Related Parties'],\n",
       " ['watch person daughter pep more than 7 years ', 'Related Parties'],\n",
       " ['watch person daughter deceased flag', 'Related Parties'],\n",
       " ['watch person daughter deceased date', 'Related Parties'],\n",
       " ['customer daughter transaction count of transaction', 'Related Parties'],\n",
       " ['customer daughter transaction total amount', 'Related Parties'],\n",
       " ['customer daughter transaction location', 'Related Parties'],\n",
       " ['match  son in law name', 'Related Parties'],\n",
       " ['watch person son in law location', 'Related Parties'],\n",
       " ['match   son in law date year of birth   dob yob  ', 'Related Parties'],\n",
       " ['watch person son in law occupation profile', 'Related Parties'],\n",
       " ['match   son in law id number nric', 'Related Parties'],\n",
       " ['match  son in law passport number ', 'Related Parties'],\n",
       " ['match  son in law nationality', 'Related Parties'],\n",
       " ['match  son in law place of birth', 'Related Parties'],\n",
       " ['watch person son in law pep more than 7 years ', 'Related Parties'],\n",
       " ['watch person son in law deceased flag', 'Related Parties'],\n",
       " ['watch person son in law deceased date', 'Related Parties'],\n",
       " ['customer son in law transaction count of transaction', 'Related Parties'],\n",
       " ['customer son in law transaction total amount', 'Related Parties'],\n",
       " ['customer son in law transaction location', 'Related Parties'],\n",
       " ['match  daughter in law name', 'Related Parties'],\n",
       " ['watch person daughter in law location', 'Related Parties'],\n",
       " ['match   daughter in law date year of birth   dob yob  ', 'Related Parties'],\n",
       " ['watch person daughter in law occupation profile', 'Related Parties'],\n",
       " ['match   daughter in law id number nric', 'Related Parties'],\n",
       " ['match  daughter in law passport number ', 'Related Parties'],\n",
       " ['match  daughter in law nationality', 'Related Parties'],\n",
       " ['match  daughter in law place of birth', 'Related Parties'],\n",
       " ['watch person daughter in law pep more than 7 years ', 'Related Parties'],\n",
       " ['watch person daughter in law deceased flag', 'Related Parties'],\n",
       " ['watch person daughter in law deceased date', 'Related Parties'],\n",
       " ['customer daughter in law transaction count of transaction',\n",
       "  'Related Parties'],\n",
       " ['customer daughter in law transaction total amount', 'Related Parties'],\n",
       " ['customer daughter in law transaction location', 'Related Parties'],\n",
       " ['match  father in law name', 'Related Parties'],\n",
       " ['watch person father in law location', 'Related Parties'],\n",
       " ['match   father in law date year of birth   dob yob  ', 'Related Parties'],\n",
       " ['watch person father in law occupation profile', 'Related Parties'],\n",
       " ['match   father in law id number nric', 'Related Parties'],\n",
       " ['match  father in law passport number ', 'Related Parties'],\n",
       " ['match  father in law nationality', 'Related Parties'],\n",
       " ['match  father in law place of birth', 'Related Parties'],\n",
       " ['watch person father in law pep more than 7 years ', 'Related Parties'],\n",
       " ['watch person father in law deceased flag', 'Related Parties'],\n",
       " ['watch person father in law deceased date', 'Related Parties'],\n",
       " ['customer father in law transaction count of transaction',\n",
       "  'Related Parties'],\n",
       " ['customer father in law transaction total amount', 'Related Parties'],\n",
       " ['customer father in law transaction location', 'Related Parties'],\n",
       " ['match  mother in law name', 'Related Parties'],\n",
       " ['watch person mother in law location', 'Related Parties'],\n",
       " ['match   mother in law date year of birth   dob yob  ', 'Related Parties'],\n",
       " ['watch person mother in law occupation profile', 'Related Parties'],\n",
       " ['match   mother in law id number nric', 'Related Parties'],\n",
       " ['match  mother in law passport number ', 'Related Parties'],\n",
       " ['match  mother in law nationality', 'Related Parties'],\n",
       " ['match  mother in law place of birth', 'Related Parties'],\n",
       " ['watch person mother in law pep flag', 'Related Parties'],\n",
       " ['watch person mother in law pep more than 7 years ', 'Related Parties'],\n",
       " ['watch person mother in law deceased flag', 'Related Parties'],\n",
       " ['watch person mother in law deceased date', 'Related Parties'],\n",
       " ['customer mother in law transaction count of transaction',\n",
       "  'Related Parties'],\n",
       " ['customer mother in law transaction total amount', 'Related Parties'],\n",
       " ['customer mother in law transaction location', 'Related Parties'],\n",
       " ['match  sister in law name', 'Related Parties'],\n",
       " ['watch person sister in law location', 'Related Parties'],\n",
       " ['match   sister in law date year of birth   dob yob  ', 'Related Parties'],\n",
       " ['watch person sister in law occupation profile', 'Related Parties'],\n",
       " ['match   sister in law id number nric', 'Related Parties'],\n",
       " ['match  sister in law passport number ', 'Related Parties'],\n",
       " ['match  sister in law nationality', 'Related Parties'],\n",
       " ['match  sister in law place of birth', 'Related Parties'],\n",
       " ['watch person sister in law pep flag', 'Related Parties'],\n",
       " ['watch person sister in law pep more than 7 years ', 'Related Parties'],\n",
       " ['watch person sister in law deceased flag', 'Related Parties'],\n",
       " ['watch person sister in law deceased date', 'Related Parties'],\n",
       " ['customer sister in law transaction count of transaction',\n",
       "  'Related Parties'],\n",
       " ['customer sister in law transaction total amount', 'Related Parties'],\n",
       " ['customer sister in law transaction location', 'Related Parties'],\n",
       " ['match  brother in law name', 'Related Parties'],\n",
       " ['watch person brother in law location', 'Related Parties'],\n",
       " ['match  brother in law date year of birth   dob yob  ', 'Related Parties'],\n",
       " ['watch person brother in law occupation profile', 'Related Parties'],\n",
       " ['match   brother in law id number nric', 'Related Parties'],\n",
       " ['match  brother in law passport number ', 'Related Parties'],\n",
       " ['match  brother in law nationality', 'Related Parties'],\n",
       " ['match  brother in law place of birth', 'Related Parties'],\n",
       " ['watch person brother in law pep flag', 'Related Parties'],\n",
       " ['watch person brother in law pep more than 7 years ', 'Related Parties'],\n",
       " ['watch person brother in law deceased flag', 'Related Parties'],\n",
       " ['watch person brother in law deceased date', 'Related Parties'],\n",
       " ['customer brother in law transaction count of transaction',\n",
       "  'Related Parties'],\n",
       " ['customer brother in law transaction total amount', 'Related Parties'],\n",
       " ['customer brother in law transaction location', 'Related Parties'],\n",
       " ['match  grandparents name', 'Related Parties'],\n",
       " ['watch person grandparents location', 'Related Parties'],\n",
       " ['match   grandparents date year of birth   dob yob  ', 'Related Parties'],\n",
       " ['watch person grandparents occupation profile', 'Related Parties'],\n",
       " ['match   grandparents id number nric', 'Related Parties'],\n",
       " ['match  grandparents passport number ', 'Related Parties'],\n",
       " ['match  grandparents nationality', 'Related Parties'],\n",
       " ['match  grandparents place of birth', 'Related Parties'],\n",
       " ['watch person grandparents pep flag', 'Related Parties'],\n",
       " ['watch person grandparents pep more than 7 years ', 'Related Parties'],\n",
       " ['watch person grandparents deceased flag', 'Related Parties'],\n",
       " ['watch person grandparents deceased date', 'Related Parties'],\n",
       " ['customer grandparents in law transaction count of transaction',\n",
       "  'Related Parties'],\n",
       " ['customer grandparents in law transaction total amount', 'Related Parties'],\n",
       " ['customer grandparents in law transaction location', 'Related Parties'],\n",
       " ['match  grandchildren name', 'Related Parties'],\n",
       " ['watch person grandchildren location', 'Related Parties'],\n",
       " ['match   grandchildren date year of birth   dob yob  ', 'Related Parties'],\n",
       " ['watch person grandchildren occupation profile', 'Related Parties'],\n",
       " ['match   grandchildren id number nric', 'Related Parties'],\n",
       " ['match  grandchildren passport number ', 'Related Parties'],\n",
       " ['match  grandchildren nationality', 'Related Parties'],\n",
       " ['match  grandchildren place of birth', 'Related Parties'],\n",
       " ['watch person grandchildren pep flag', 'Related Parties'],\n",
       " ['watch person grandchildren pep more than 7 years ', 'Related Parties'],\n",
       " ['watch person grandchildren deceased flag', 'Related Parties'],\n",
       " ['watch person grandchildren deceased date', 'Related Parties'],\n",
       " ['customer grandchildren transaction count of transaction',\n",
       "  'Related Parties'],\n",
       " ['customer grandchildren transaction total amount', 'Related Parties'],\n",
       " ['customer grandchildren transaction location', 'Related Parties'],\n",
       " ['match  uncle name', 'Related Parties'],\n",
       " ['watch person uncle location', 'Related Parties'],\n",
       " ['match   uncle date year of birth   dob yob  ', 'Related Parties'],\n",
       " ['watch person uncle occupation profile', 'Related Parties'],\n",
       " ['match   uncle id number nric', 'Related Parties'],\n",
       " ['match  uncle passport number ', 'Related Parties'],\n",
       " ['match  uncle nationality', 'Related Parties'],\n",
       " ['match  uncle place of birth', 'Related Parties'],\n",
       " ['watch person uncle pep flag', 'Related Parties'],\n",
       " ['watch person uncle pep more than 7 years ', 'Related Parties'],\n",
       " ['watch person uncle deceased flag', 'Related Parties'],\n",
       " ['watch person uncle deceased date', 'Related Parties'],\n",
       " ['customer uncle transaction count of transaction', 'Related Parties'],\n",
       " ['customer uncle transaction total amount', 'Related Parties'],\n",
       " ['customer uncle transaction location', 'Related Parties'],\n",
       " ['match  aunt name', 'Related Parties'],\n",
       " ['watch person aunt location', 'Related Parties'],\n",
       " ['match   aunt date year of birth   dob yob  ', 'Related Parties'],\n",
       " ['watch person aunt occupation profile', 'Related Parties'],\n",
       " ['match   aunt id number nric', 'Related Parties'],\n",
       " ['match  aunt passport number ', 'Related Parties'],\n",
       " ['match  aunt nationality', 'Related Parties'],\n",
       " ['match  aunt place of birth', 'Related Parties'],\n",
       " ['watch person aunt pep flag', 'Related Parties'],\n",
       " ['watch person aunt occupation profile', 'Related Parties'],\n",
       " ['watch person aunt pep more than 7 years ', 'Related Parties'],\n",
       " ['watch person aunt deceased flag', 'Related Parties'],\n",
       " ['watch person aunt deceased date', 'Related Parties'],\n",
       " ['customer aunt transaction count of transaction', 'Related Parties'],\n",
       " ['customer aunt transaction total amount', 'Related Parties'],\n",
       " ['customer aunt transaction location', 'Related Parties'],\n",
       " ['match  cousin name', 'Related Parties'],\n",
       " ['watch person cousin location', 'Related Parties'],\n",
       " ['match   cousin date year of birth   dob yob  ', 'Related Parties'],\n",
       " ['watch person cousin occupation profile', 'Related Parties'],\n",
       " ['match   cousin id number nric', 'Related Parties'],\n",
       " ['match  cousin passport number ', 'Related Parties'],\n",
       " ['match  cousin nationality', 'Related Parties'],\n",
       " ['match  cousin place of birth', 'Related Parties'],\n",
       " ['watch person cousin pep flag', 'Related Parties'],\n",
       " ['watch person cousin occupation profile', 'Related Parties'],\n",
       " ['watch person cousin pep more than 7 years ', 'Related Parties'],\n",
       " ['watch person cousin deceased flag', 'Related Parties'],\n",
       " ['watch person cousin deceased date', 'Related Parties'],\n",
       " ['customer cousin transaction count of transaction', 'Related Parties'],\n",
       " ['customer cousin transaction total amount', 'Related Parties'],\n",
       " ['customer cousin transaction location', 'Related Parties'],\n",
       " ['match  driver name', 'Related Parties'],\n",
       " ['watch person driver location', 'Related Parties'],\n",
       " ['match   driver date year of birth   dob yob  ', 'Related Parties'],\n",
       " ['watch person driver occupation profile', 'Related Parties'],\n",
       " ['match   driver id number nric', 'Related Parties'],\n",
       " ['match  driver passport number ', 'Related Parties'],\n",
       " ['match  driver nationality', 'Related Parties'],\n",
       " ['match  driver place of birth', 'Related Parties'],\n",
       " ['watch person driver pep flag', 'Related Parties'],\n",
       " ['watch person driver occupation profile', 'Related Parties'],\n",
       " ['watch person driver pep more than 7 years ', 'Related Parties'],\n",
       " ['watch person driver deceased flag', 'Related Parties'],\n",
       " ['watch person driver deceased date', 'Related Parties'],\n",
       " ['customer driver transaction count of transaction', 'Related Parties'],\n",
       " ['customer driver transaction total amount', 'Related Parties'],\n",
       " ['customer driver transaction location', 'Related Parties'],\n",
       " ['match  bodyguard name', 'Related Parties'],\n",
       " ['watch person bodyguard location', 'Related Parties'],\n",
       " ['match   bodyguard date year of birth   dob yob  ', 'Related Parties'],\n",
       " ['watch person bodyguard occupation profile', 'Related Parties'],\n",
       " ['match   bodyguard id number nric', 'Related Parties'],\n",
       " ['match  bodyguard passport number ', 'Related Parties'],\n",
       " ['match  bodyguard nationality', 'Related Parties'],\n",
       " ['match  bodyguard place of birth', 'Related Parties'],\n",
       " ['watch person bodyguard pep flag', 'Related Parties'],\n",
       " ['watch person bodyguard occupation profile', 'Related Parties'],\n",
       " ['watch person bodyguard pep more than 7 years ', 'Related Parties'],\n",
       " ['watch person bodyguard deceased flag', 'Related Parties'],\n",
       " ['watch person bodyguard deceased date', 'Related Parties'],\n",
       " ['customer bodyguard transaction count of transaction', 'Related Parties'],\n",
       " ['customer bodyguard transaction total amount', 'Related Parties'],\n",
       " ['customer bodyguard transaction location', 'Related Parties'],\n",
       " ['match  secretaries name', 'Related Parties'],\n",
       " ['watch person secretaries location', 'Related Parties'],\n",
       " ['match   secretaries date year of birth   dob yob  ', 'Related Parties'],\n",
       " ['watch person secretaries occupation profile', 'Related Parties'],\n",
       " ['match   secretaries id number nric', 'Related Parties'],\n",
       " ['match  secretaries passport number ', 'Related Parties'],\n",
       " ['match  secretaries nationality', 'Related Parties'],\n",
       " ['match  secretaries place of birth', 'Related Parties'],\n",
       " ['watch person secretaries pep flag', 'Related Parties'],\n",
       " ['watch person secretaries occupation profile', 'Related Parties'],\n",
       " ['watch person secretaries pep more than 7 years ', 'Related Parties'],\n",
       " ['watch person secretaries deceased flag', 'Related Parties'],\n",
       " ['watch person secretaries deceased date', 'Related Parties'],\n",
       " ['customer secretaries transaction count of transaction', 'Related Parties'],\n",
       " ['customer secretaries transaction total amount', 'Related Parties'],\n",
       " ['customer secretaries transaction location', 'Related Parties'],\n",
       " ['match  business partner name', 'Related Parties'],\n",
       " ['watch person business partner location', 'Related Parties'],\n",
       " ['match   business partner date year of birth   dob yob  ',\n",
       "  'Related Parties'],\n",
       " ['watch person business partner occupation profile', 'Related Parties'],\n",
       " ['match   business partner id number nric', 'Related Parties'],\n",
       " ['match  business partner passport number ', 'Related Parties'],\n",
       " ['match  business partner nationality', 'Related Parties'],\n",
       " ['match  business partner place of birth', 'Related Parties'],\n",
       " ['watch person business partner pep flag', 'Related Parties'],\n",
       " ['watch person business partner occupation profile', 'Related Parties'],\n",
       " ['watch person business partner pep more than 7 years ', 'Related Parties'],\n",
       " ['watch person business partner deceased flag', 'Related Parties'],\n",
       " ['watch person business partner deceased date', 'Related Parties'],\n",
       " ['customer business partner transaction count of transaction',\n",
       "  'Related Parties'],\n",
       " ['customer business partner transaction total amount', 'Related Parties'],\n",
       " ['customer business partner transaction location', 'Related Parties'],\n",
       " ['match  ex husband name', 'Related Parties'],\n",
       " ['watch person ex husband location', 'Related Parties'],\n",
       " ['match   ex husband date year of birth   dob yob  ', 'Related Parties'],\n",
       " ['watch person ex husband occupation profile', 'Related Parties'],\n",
       " ['match   ex husband id number nric', 'Related Parties'],\n",
       " ['match  ex husband passport number ', 'Related Parties'],\n",
       " ['match  ex husband nationality', 'Related Parties'],\n",
       " ['match  ex husband place of birth', 'Related Parties'],\n",
       " ['watch person ex husband pep flag', 'Related Parties'],\n",
       " ['watch person ex husband occupation profile', 'Related Parties'],\n",
       " ['watch person ex husband pep more than 7 years ', 'Related Parties'],\n",
       " ['watch person ex husband deceased flag', 'Related Parties'],\n",
       " ['watch person ex husband deceased date', 'Related Parties'],\n",
       " ['customer ex husband transaction count of transaction', 'Related Parties'],\n",
       " ['customer ex husband transaction total amount', 'Related Parties'],\n",
       " ['customer ex husband transaction location', 'Related Parties'],\n",
       " ['watch person pep flag', 'PEP'],\n",
       " ['watch person spouse pep flag', 'PEP'],\n",
       " ['watch person father pep flag', 'PEP'],\n",
       " ['watch person mother pep flag ', 'PEP'],\n",
       " ['watch person son pep flag', 'PEP'],\n",
       " ['watch person daughter pep flag', 'PEP'],\n",
       " ['watch person brother pep flag ', 'PEP'],\n",
       " ['watch person sister pep flag ', 'PEP'],\n",
       " ['watch person father in law pep flag', 'PEP'],\n",
       " ['watch person mother in law pep flag ', 'PEP'],\n",
       " ['watch person son in law pep flag ', 'PEP'],\n",
       " ['watch person daughter in law pep flag ', 'PEP'],\n",
       " ['watch person brother in law pep flag ', 'PEP'],\n",
       " ['watch person sister in law pep flag ', 'PEP'],\n",
       " ['watch person holding high position flag', 'PEP'],\n",
       " ['watch person pep date', 'PEP'],\n",
       " ['watch person holding high ranking position date', 'PEP'],\n",
       " ['customer maybank onboarding date', 'UNKOWN/Miscellanoeous'],\n",
       " ['customer cif creation date', 'UNKOWN/Miscellanoeous'],\n",
       " ['customer marital status', 'UNKOWN/Miscellanoeous'],\n",
       " ['customer date of marriage ', 'UNKOWN/Miscellanoeous'],\n",
       " ['watch person restrained by sebi from accessing security market flag',\n",
       "  'Securities'],\n",
       " ['watch person fine by sebi flag', 'Securities'],\n",
       " ['watch perosn fine by sebi & restrained from participating in security market date',\n",
       "  'Securities'],\n",
       " ['watch person imprisioned   detained   house arrest   trail flag', 'Crime'],\n",
       " ['watch person imprisioned   detained   house arrest   trial location',\n",
       "  'Crime'],\n",
       " ['watch person imprisioned   detained   house arrest   trail date', 'Crime'],\n",
       " ['material crime money laundering   cheat   allegeged position   arms trafficking   trafficking narcotics flag',\n",
       "  'Crime'],\n",
       " ['watch person crime committed date', 'Crime'],\n",
       " ['watch person crime committed location', 'Crime'],\n",
       " ['customer account active flag', 'Account & transactions'],\n",
       " ['customer transaction salary flag', 'Account & transactions'],\n",
       " ['customer transaction latest salary date', 'Account & transactions'],\n",
       " ['customer transaction salary amount', 'Account & transactions'],\n",
       " ['customer transaction localized flag',\n",
       "  'Proof of customer location elsewhere/ profile/ present in the bank during the period when the aderse news took place'],\n",
       " ['customer transaction location',\n",
       "  'Proof of customer location elsewhere/ profile/ present in the bank during the period when the aderse news took place'],\n",
       " ['customer transaction date ', 'Account & transactions'],\n",
       " ['customer account opening date', 'Account & transactions'],\n",
       " ['customer account inactive flag', 'Account & transactions'],\n",
       " ['customer account inactive date', 'Account & transactions'],\n",
       " ['customer account balance', 'Account & transactions'],\n",
       " ['customer account active date', 'Account & transactions'],\n",
       " ['customer account dormant status', 'Account & transactions'],\n",
       " ['customer last transaction date', 'Account & transactions'],\n",
       " ['customer transaction number of transactions', 'Account & transactions'],\n",
       " ['customer transaction amount', 'Account & transactions'],\n",
       " ['customer transaction online offline', 'Account & transactions'],\n",
       " ['customer joint account flag', 'Account & transactions'],\n",
       " ['customer last transaction amount', 'Account & transactions']]"
      ]
     },
     "execution_count": 71,
     "metadata": {},
     "output_type": "execute_result"
    }
   ],
   "source": [
    "categories"
   ]
  },
  {
   "cell_type": "code",
   "execution_count": 72,
   "id": "3368208e-97b7-49f6-96c6-2c7636641715",
   "metadata": {},
   "outputs": [],
   "source": [
    "for ind,anch in zip(df_samp.index,df_samp[\"Features_present_cosine_actual_anchors_ollama\"]):\n",
    "    l=[]\n",
    "    for x in anch:\n",
    "        l.append([(x,i[1])  for i in categories if x in i][0])\n",
    "    df_samp[\"Feat_Categories\"].loc[ind]=l"
   ]
  },
  {
   "cell_type": "code",
   "execution_count": 73,
   "id": "7aac9265-9ded-4775-9cf8-9ccc9bd1f3e6",
   "metadata": {},
   "outputs": [
    {
     "data": {
      "text/plain": [
       "0      [(id number nric, Identification Number - NRIC...\n",
       "1      [(match  son in law name, Related Parties), (m...\n",
       "2      [(id number nric, Identification Number - NRIC...\n",
       "3      [(match  son in law name, Related Parties), (m...\n",
       "4      [(customer cif creation date, UNKOWN/Miscellan...\n",
       "                             ...                        \n",
       "96     [(customer son in law transaction location, Re...\n",
       "97     [(id number nric, Identification Number - NRIC...\n",
       "98     [(watch person sister pep more than 7 years , ...\n",
       "99     [(match  son in law passport number , Related ...\n",
       "100                                                   []\n",
       "Name: Feat_Categories, Length: 99, dtype: object"
      ]
     },
     "execution_count": 73,
     "metadata": {},
     "output_type": "execute_result"
    }
   ],
   "source": [
    "df_samp[\"Feat_Categories\"]\n"
   ]
  },
  {
   "cell_type": "code",
   "execution_count": 75,
   "id": "3715996a-45df-4235-99ed-e2a0ddecfc3b",
   "metadata": {},
   "outputs": [],
   "source": [
    "df_samp[\"Categories\"]=df_samp[\"Feat_Categories\"].apply(lambda x: list(set([i[1] for i in x])))"
   ]
  },
  {
   "cell_type": "code",
   "execution_count": 76,
   "id": "72ada45d-f283-493e-ab61-68b27b80f0f4",
   "metadata": {},
   "outputs": [],
   "source": [
    "df_samp[[\"V_COMMENTS\",\"Counts\",\"Match_Mismatch\",\"V_COMMENTS_3\",\"Features_present_cosine_ollama\",\"Features_present_cosine_top_ollama\",\"Features_present_cosine_actual_anchors_ollama\",\"Feat_Categories\",\"Categories\"]].to_csv(\"Feature_extraction_ollama_results.csv\")"
   ]
  },
  {
   "cell_type": "code",
   "execution_count": null,
   "id": "a6d148e3-a14e-4b04-9efd-d1e706d00a91",
   "metadata": {
    "scrolled": true
   },
   "outputs": [],
   "source": [
    "df_samp[\"Categories\"]=df_samp[\"Feat_Categories\"].apply(lambda x: list(set([i[1] for i in x])))"
   ]
  },
  {
   "cell_type": "code",
   "execution_count": null,
   "id": "2330d140-9d33-4b96-984a-eefb40584250",
   "metadata": {},
   "outputs": [],
   "source": []
  }
 ],
 "metadata": {
  "colab": {
   "provenance": []
  },
  "kernelspec": {
   "display_name": "Python 3 (ipykernel)",
   "language": "python",
   "name": "python3"
  },
  "language_info": {
   "codemirror_mode": {
    "name": "ipython",
    "version": 3
   },
   "file_extension": ".py",
   "mimetype": "text/x-python",
   "name": "python",
   "nbconvert_exporter": "python",
   "pygments_lexer": "ipython3",
   "version": "3.11.7"
  }
 },
 "nbformat": 4,
 "nbformat_minor": 5
}
